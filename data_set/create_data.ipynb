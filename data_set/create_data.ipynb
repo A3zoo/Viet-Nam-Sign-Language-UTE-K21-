{
 "cells": [
  {
   "cell_type": "code",
   "execution_count": 25,
   "metadata": {},
   "outputs": [
    {
     "name": "stdout",
     "output_type": "stream",
     "text": [
      "Video đã được lưu vào file 'output.avi'\n"
     ]
    }
   ],
   "source": [
    "import cv2\n",
    "import time\n",
    "import os\n",
    "\n",
    "# Khởi tạo đối tượng video capture\n",
    "cap = cv2.VideoCapture(0)\n",
    "\n",
    "# Kiểm tra xem camera có mở thành công không\n",
    "if not cap.isOpened():\n",
    "    print(\"Error: Could not open video capture.\")\n",
    "    exit()\n",
    "exit_flag = False\n",
    "name = \"Duong\" # Tên ký hiệu sửa tại đây\n",
    "                \n",
    "os.makedirs(f'./video_dataset/{name}', exist_ok=True)\n",
    "# Lấy thời gian bắt đầu quay\n",
    "for i in range(1,7):# Số lượng video\n",
    "    # Định nghĩa codec và tạo đối tượng VideoWriter\n",
    "    fourcc = cv2.VideoWriter_fourcc(*'XVID')\n",
    "    out = cv2.VideoWriter(f'./video_dataset/{name}/{i}.avi', fourcc, 20.0, (640, 480))\n",
    "\n",
    "    # Đặt thời gian quay video (tính bằng giây)\n",
    "    duration = 2\n",
    "\n",
    "    ret, frame = cap.read()\n",
    "    if not ret:\n",
    "            print(\"Error: Failed to capture image.\")\n",
    "            break\n",
    "    cv2.putText(frame, f'video{i}', (10, 30), \n",
    "                cv2.FONT_HERSHEY_SIMPLEX, 1, (0, 255, 0), 2, cv2.LINE_AA)\n",
    "    cv2.imshow(\"Recording\", frame)\n",
    "    cv2.waitKey(1000)\n",
    "    cv2.putText(frame, f'Video recording will start in 1 second', (60, 60), \n",
    "                cv2.FONT_HERSHEY_SIMPLEX, 1, (0, 255, 0), 2, cv2.LINE_AA)\n",
    "    cv2.imshow(\"Recording\", frame)\n",
    "    cv2.waitKey(1000)\n",
    "    # Vòng lặp để quay video trong 2 giây\n",
    "    start_time = time.time()\n",
    "    while (time.time() - start_time) < duration:\n",
    "        ret, frame = cap.read()\n",
    "        if not ret:\n",
    "            print(\"Error: Failed to capture image.\")\n",
    "            break\n",
    "        frame = cv2.resize(frame, (640, 480))\n",
    "        # Ghi khung hình vào file video\n",
    "        out.write(frame)\n",
    "        \n",
    "        # Hiển thị khung hình\n",
    "        cv2.imshow(\"Recording\", frame)\n",
    "        if cv2.waitKey(1) & 0xFF == ord('q'):\n",
    "            exit_flag = True\n",
    "            break\n",
    "    out.release()\n",
    "    # Kiểm tra nếu phím 'q' được nhấn để thoát vòng lặp ngoài\n",
    "    if exit_flag:\n",
    "        break\n",
    "\n",
    "# Giải phóng các đối tượng\n",
    "cap.release()\n",
    "cv2.destroyAllWindows()\n",
    "\n",
    "print(\"Video đã được lưu vào file 'output.avi'\")\n"
   ]
  }
 ],
 "metadata": {
  "kernelspec": {
   "display_name": ".venv",
   "language": "python",
   "name": "python3"
  },
  "language_info": {
   "codemirror_mode": {
    "name": "ipython",
    "version": 3
   },
   "file_extension": ".py",
   "mimetype": "text/x-python",
   "name": "python",
   "nbconvert_exporter": "python",
   "pygments_lexer": "ipython3",
   "version": "3.11.9"
  }
 },
 "nbformat": 4,
 "nbformat_minor": 2
}
