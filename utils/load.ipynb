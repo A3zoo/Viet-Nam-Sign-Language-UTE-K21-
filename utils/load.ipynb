{
 "cells": [
  {
   "cell_type": "code",
   "execution_count": 1,
   "metadata": {},
   "outputs": [],
   "source": [
    "import torch"
   ]
  },
  {
   "cell_type": "code",
   "execution_count": 4,
   "metadata": {},
   "outputs": [
    {
     "data": {
      "text/plain": [
       "torch.Size([25, 44, 3])"
      ]
     },
     "execution_count": 4,
     "metadata": {},
     "output_type": "execute_result"
    }
   ],
   "source": [
    "# Tải các tensor từ file 'tensors.pt'\n",
    "loaded_tensors = torch.load('./6.avi.pt')\n",
    "loaded_tensors.shape"
   ]
  },
  {
   "cell_type": "code",
   "execution_count": 6,
   "metadata": {},
   "outputs": [
    {
     "data": {
      "text/plain": [
       "[[0, 0, 0],\n",
       " [0, 0, 0],\n",
       " [0, 0, 0],\n",
       " [0, 0, 0],\n",
       " [0, 0, 0],\n",
       " [0, 0, 0],\n",
       " [0, 0, 0],\n",
       " [0, 0, 0],\n",
       " [0, 0, 0],\n",
       " [0, 0, 0]]"
      ]
     },
     "execution_count": 6,
     "metadata": {},
     "output_type": "execute_result"
    }
   ],
   "source": [
    "c = [[0,0,0]]* 10\n",
    "c"
   ]
  },
  {
   "cell_type": "code",
   "execution_count": 1,
   "metadata": {},
   "outputs": [
    {
     "data": {
      "text/plain": [
       "[[1, 2, 3],\n",
       " [1, 2, 3],\n",
       " [0, 0, 0],\n",
       " [0, 0, 0],\n",
       " [0, 0, 0],\n",
       " [0, 0, 0],\n",
       " [0, 0, 0],\n",
       " [0, 0, 0],\n",
       " [0, 0, 0],\n",
       " [0, 0, 0],\n",
       " [0, 0, 0],\n",
       " [0, 0, 0],\n",
       " [0, 0, 0],\n",
       " [0, 0, 0],\n",
       " [0, 0, 0],\n",
       " [0, 0, 0],\n",
       " [0, 0, 0],\n",
       " [0, 0, 0],\n",
       " [0, 0, 0],\n",
       " [0, 0, 0],\n",
       " [0, 0, 0],\n",
       " [0, 0, 0],\n",
       " [0, 0, 0]]"
      ]
     },
     "execution_count": 1,
     "metadata": {},
     "output_type": "execute_result"
    }
   ],
   "source": [
    "c = [[1,2,3], [1,2,3]]\n",
    "c.extend([[0,0,0]] * 21)\n",
    "c"
   ]
  }
 ],
 "metadata": {
  "kernelspec": {
   "display_name": ".venv",
   "language": "python",
   "name": "python3"
  },
  "language_info": {
   "codemirror_mode": {
    "name": "ipython",
    "version": 3
   },
   "file_extension": ".py",
   "mimetype": "text/x-python",
   "name": "python",
   "nbconvert_exporter": "python",
   "pygments_lexer": "ipython3",
   "version": "3.11.9"
  }
 },
 "nbformat": 4,
 "nbformat_minor": 2
}
