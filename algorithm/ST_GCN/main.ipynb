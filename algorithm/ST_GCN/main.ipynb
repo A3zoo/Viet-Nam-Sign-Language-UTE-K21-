{
 "cells": [
  {
   "cell_type": "code",
   "execution_count": 63,
   "metadata": {
    "execution": {
     "iopub.execute_input": "2024-12-07T04:40:41.089234Z",
     "iopub.status.busy": "2024-12-07T04:40:41.088531Z",
     "iopub.status.idle": "2024-12-07T04:40:41.109995Z",
     "shell.execute_reply": "2024-12-07T04:40:41.109141Z",
     "shell.execute_reply.started": "2024-12-07T04:40:41.089203Z"
    },
    "trusted": true
   },
   "outputs": [],
   "source": [
    "import numpy as np\n",
    "\n",
    "\n",
    "def get_hop_distance(num_node, edge, max_hop=1):\n",
    "    # link matrix\n",
    "    A = np.zeros((num_node, num_node))\n",
    "    for i, j in edge:\n",
    "        A[j, i] = 1\n",
    "        A[i, j] = 1\n",
    "\n",
    "    # compute hop steps\n",
    "    hop_dis = np.zeros((num_node, num_node)) + np.inf\n",
    "    transfer_mat = [np.linalg.matrix_power(A, d) for d in range(max_hop + 1)]\n",
    "    arrive_mat = np.stack(transfer_mat) > 0\n",
    "    for d in range(max_hop, -1, -1):\n",
    "        hop_dis[arrive_mat[d]] = d\n",
    "    return hop_dis\n",
    "\n",
    "\n",
    "def normalize_digraph(A):\n",
    "    Dl = np.sum(A, 0)\n",
    "    num_node = A.shape[0]\n",
    "    Dn = np.zeros((num_node, num_node))\n",
    "    for i in range(num_node):\n",
    "        if Dl[i] > 0:\n",
    "            Dn[i, i] = Dl[i] ** (-1)\n",
    "    AD = np.dot(A, Dn)\n",
    "    return AD\n",
    "\n",
    "\n",
    "def edge2mat(link, num_node):\n",
    "    A = np.zeros((num_node, num_node))\n",
    "    for i, j in link:\n",
    "        A[j, i] = 1\n",
    "    return A\n",
    "\n",
    "def get_spatial_graph(num_node, self_link, inward, outward):\n",
    "    I = edge2mat(self_link, num_node)\n",
    "    In = normalize_digraph(edge2mat(inward, num_node))\n",
    "    Out = normalize_digraph(edge2mat(outward, num_node))\n",
    "    A = np.stack((I, In, Out))\n",
    "    return A\n",
    "\n",
    "class GraphWithPartition:  # Unidirected, connections with hop limit\n",
    "    \"\"\"The Graph to model the skeletons \n",
    "    Args:\n",
    "        num_nodes (int): Number of spatial nodes in the graph.\n",
    "        center (int): Index of the center node.\n",
    "        inward_edges (list): List of spatial edges connecting the skeleton.\n",
    "        strategy (string): must be one of the follow candidates\n",
    "        - uniform: Uniform Labeling\n",
    "        - distance: Distance Partitioning\n",
    "        - spatial: Spatial Configuration\n",
    "        For more information, please refer to the section 'Partition\n",
    "        Strategies' in the ST-GCN paper (https://arxiv.org/abs/1801.07455).\n",
    "        \n",
    "        max_hop (int): the maximal distance between two connected nodes. Default: 1\n",
    "        dilation (int): controls the spacing between the kernel points. Default: 1\n",
    "    \"\"\"\n",
    "\n",
    "    def __init__(\n",
    "        self,\n",
    "        num_nodes,\n",
    "        center,\n",
    "        inward_edges,\n",
    "        strategy=\"spatial\",\n",
    "        max_hop=1,\n",
    "        dilation=1,\n",
    "    ):\n",
    "        self.num_nodes = num_nodes\n",
    "        self.center = center\n",
    "        self.self_edges = [[i, i] for i in range(self.num_nodes)]\n",
    "        self.inward_edges = inward_edges\n",
    "        self.edges = self.self_edges + self.inward_edges\n",
    "\n",
    "        self.max_hop = max_hop\n",
    "        self.dilation = dilation\n",
    "\n",
    "        self.hop_dis = get_hop_distance(self.num_nodes, self.edges, max_hop=max_hop)\n",
    "        self.get_adjacency(strategy)\n",
    "\n",
    "    def get_adjacency(self, strategy):\n",
    "        valid_hop = range(0, self.max_hop + 1, self.dilation)\n",
    "        adjacency = np.zeros((self.num_nodes, self.num_nodes))\n",
    "        for hop in valid_hop:\n",
    "            adjacency[self.hop_dis == hop] = 1\n",
    "        normalize_adjacency = normalize_digraph(adjacency)\n",
    "\n",
    "        if strategy == \"uniform\":\n",
    "            A = np.zeros((1, self.num_nodes, self.num_nodes))\n",
    "            A[0] = normalize_adjacency\n",
    "            self.A = A\n",
    "        elif strategy == \"distance\":\n",
    "            A = np.zeros((len(valid_hop), self.num_nodes, self.num_nodes))\n",
    "            for i, hop in enumerate(valid_hop):\n",
    "                A[i][self.hop_dis == hop] = normalize_adjacency[self.hop_dis == hop]\n",
    "            self.A = A\n",
    "        elif strategy == \"spatial\":\n",
    "            A = []\n",
    "            for hop in valid_hop:\n",
    "                a_root = np.zeros((self.num_nodes, self.num_nodes))\n",
    "                a_close = np.zeros((self.num_nodes, self.num_nodes))\n",
    "                a_further = np.zeros((self.num_nodes, self.num_nodes))\n",
    "                for i in range(self.num_nodes):\n",
    "                    for j in range(self.num_nodes):\n",
    "                        if self.hop_dis[j, i] == hop:\n",
    "                            if (\n",
    "                                self.hop_dis[j, self.center]\n",
    "                                == self.hop_dis[i, self.center]\n",
    "                            ):\n",
    "                                a_root[j, i] = normalize_adjacency[j, i]\n",
    "                            elif (\n",
    "                                self.hop_dis[j, self.center]\n",
    "                                > self.hop_dis[i, self.center]\n",
    "                            ):\n",
    "                                a_close[j, i] = normalize_adjacency[j, i]\n",
    "                            else:\n",
    "                                a_further[j, i] = normalize_adjacency[j, i]\n",
    "                if hop == 0:\n",
    "                    A.append(a_root)\n",
    "                else:\n",
    "                    A.append(a_root + a_close)\n",
    "                    A.append(a_further)\n",
    "            A = np.stack(A)\n",
    "            self.A = A\n",
    "        else:\n",
    "            raise ValueError(\"This Graph construction strategy is not supported\")\n",
    "\n",
    "class SpatialGraph:\n",
    "    \"\"\"\n",
    "    Graph construction with equal weight to all the nodes.\n",
    "    Args:\n",
    "        num_nodes (int): Number of spatial nodes in the graph.\n",
    "        inward_edges (list): List of spatial edges connecting the skeleton.\n",
    "    \"\"\"\n",
    "    def __init__(self, num_nodes, inward_edges, strategy=\"spatial\"):\n",
    "        self.num_nodes = num_nodes\n",
    "        self.strategy = strategy\n",
    "        self.self_edges = [(i, i) for i in range(num_nodes)]\n",
    "        self.inward_edges = inward_edges\n",
    "        self.outward_edges = [(j, i) for (i, j) in self.inward_edges]\n",
    "        self.A = self.get_adjacency_matrix()\n",
    "\n",
    "    def get_adjacency_matrix(self):\n",
    "        if self.strategy == \"spatial\":\n",
    "            return get_spatial_graph(\n",
    "                self.num_nodes, self.self_edges, self.inward_edges, self.outward_edges\n",
    "            )\n",
    "        else:\n",
    "            raise ValueError()\n"
   ]
  },
  {
   "cell_type": "code",
   "execution_count": null,
   "metadata": {
    "trusted": true
   },
   "outputs": [],
   "source": []
  },
  {
   "cell_type": "code",
   "execution_count": 64,
   "metadata": {
    "execution": {
     "iopub.execute_input": "2024-12-07T04:40:41.111906Z",
     "iopub.status.busy": "2024-12-07T04:40:41.111605Z",
     "iopub.status.idle": "2024-12-07T04:40:41.281479Z",
     "shell.execute_reply": "2024-12-07T04:40:41.280509Z",
     "shell.execute_reply.started": "2024-12-07T04:40:41.111881Z"
    },
    "trusted": true
   },
   "outputs": [],
   "source": [
    "import torch\n",
    "import torch.nn as nn\n",
    "import torch.nn.functional as F\n",
    "import math\n",
    "\n",
    "class ConvTemporalGraphical(nn.Module):\n",
    "    \"\"\"The basic module for applying a graph convolution.\n",
    "    Args:\n",
    "        in_channels (int): Number of channels in the input sequence data.\n",
    "        out_channels (int): Number of channels produced by the convolution.\n",
    "        kernel_size (int): Size of the graph convolving kernel.\n",
    "        t_kernel_size (int): Size of the temporal convolving kernel.\n",
    "        t_stride (int, optional): Stride of the temporal convolution. Default: 1.\n",
    "        t_padding (int, optional): Temporal zero-padding added to both sides\n",
    "            of the input. Default: 0.\n",
    "        t_dilation (int, optional): Spacing between temporal kernel elements.\n",
    "            Default: 1.\n",
    "        bias (bool, optional): If ``True``, adds a learnable bias to the\n",
    "            output. Default: ``True``.\n",
    "    Shape:\n",
    "        - Input[0]: Input graph sequence in :math:`(N, in_channels, T_{in}, V)`\n",
    "            format\n",
    "        - Input[1]: Input graph adjacency matrix in :math:`(K, V, V)` format\n",
    "        - Output[0]: Output graph sequence in :math:`(N, out_channels, T_{out}\n",
    "            , V)` format\n",
    "        - Output[1]: Graph adjacency matrix for output data in :math:`(K, V, V)\n",
    "            ` format\n",
    "        where\n",
    "            :math:`N` is a batch size,\n",
    "            :math:`K` is the spatial kernel size, as :math:`K == kernel_size[1]\n",
    "                `,\n",
    "            :math:`T_{in}/T_{out}` is a length of input/output sequence,\n",
    "            :math:`V` is the number of graph nodes.\n",
    "    \"\"\"\n",
    "    def __init__(\n",
    "        self,\n",
    "        in_channels,\n",
    "        out_channels,\n",
    "        kernel_size,\n",
    "        t_kernel_size=1,\n",
    "        t_stride=1,\n",
    "        t_padding=0,\n",
    "        t_dilation=1,\n",
    "        bias=True,\n",
    "    ):\n",
    "        super().__init__()\n",
    "\n",
    "        self.kernel_size = kernel_size\n",
    "        self.conv = nn.Conv2d(\n",
    "            in_channels,\n",
    "            out_channels * kernel_size,\n",
    "            kernel_size=(t_kernel_size, 1),\n",
    "            padding=(t_padding, 0),\n",
    "            stride=(t_stride, 1),\n",
    "            dilation=(t_dilation, 1),\n",
    "            bias=bias,\n",
    "        )\n",
    "\n",
    "    def forward(self, x, A):\n",
    "        assert A.size(0) == self.kernel_size\n",
    "\n",
    "        x = self.conv(x)\n",
    "        n, kc, t, v = x.size()\n",
    "        x = x.view(n, self.kernel_size, kc // self.kernel_size, t, v)\n",
    "        x = torch.einsum(\"nkctv,kvw->nctw\", (x, A))\n",
    "\n",
    "        return x.contiguous(), A                                                                                \n",
    "\n",
    "\n",
    "class STGCN_BLOCK(nn.Module):\n",
    "    \"\"\"\n",
    "    Applies a spatial temporal graph convolution over an input graph\n",
    "    sequence.\n",
    "\n",
    "    Args:\n",
    "        in_channels (int): Number of channels in the input sequence data.\n",
    "        out_channels (int): Number of channels produced by the convolution.\n",
    "        kernel_size (tuple): Size of the temporal convolving kernel and\n",
    "            graph convolving kernel.\n",
    "        stride (int, optional): Stride of the temporal convolution. Default: 1.\n",
    "        dropout (int, optional): Dropout rate of the final output. Default: 0.\n",
    "        residual (bool, optional): If ``True``, applies a residual mechanism. Default: ``True``.\n",
    "    Shape:\n",
    "        - Input[0]: Input graph sequence in :math:`(N, in_channels, T_{in}, V)`\n",
    "            format.\n",
    "        - Input[1]: Input graph adjacency matrix in :math:`(K, V, V)` format\n",
    "        - Output[0]: Output graph sequence in :math:`(N, out_channels, T_{out},\n",
    "            V)` format.\n",
    "        - Output[1]: Graph adjacency matrix for output data in :math:`(K, V,\n",
    "            V)` format.\n",
    "        where\n",
    "            :math:`N` is a batch size,\n",
    "            :math:`K` is the spatial kernel size, as :math:`K == kernel_size[1]`,\n",
    "            :math:`T_{in}/T_{out}` is a length of input/output sequence,\n",
    "            :math:`V` is the number of graph nodes.\n",
    "    \"\"\"\n",
    "    def __init__(\n",
    "        self, in_channels, out_channels, kernel_size, stride=1, dropout=0, residual=True\n",
    "    ):\n",
    "        super().__init__()\n",
    "\n",
    "        assert len(kernel_size) == 2\n",
    "        assert kernel_size[0] % 2 == 1\n",
    "        padding = ((kernel_size[0] - 1) // 2, 0)\n",
    "\n",
    "        self.gcn = ConvTemporalGraphical(in_channels, out_channels, kernel_size[1])\n",
    "\n",
    "        self.tcn = nn.Sequential(\n",
    "            nn.BatchNorm2d(out_channels),\n",
    "            nn.ReLU(inplace=True),\n",
    "            nn.Conv2d(\n",
    "                out_channels,\n",
    "                out_channels,\n",
    "                (kernel_size[0], 1),\n",
    "                (stride, 1),\n",
    "                padding,\n",
    "            ),\n",
    "            nn.BatchNorm2d(out_channels),\n",
    "            nn.Dropout(dropout, inplace=True),\n",
    "        )\n",
    "\n",
    "        if not residual:\n",
    "            self.residual = lambda x: 0\n",
    "\n",
    "        elif (in_channels == out_channels) and (stride == 1):\n",
    "            self.residual = lambda x: x\n",
    "\n",
    "        else:\n",
    "            self.residual = nn.Sequential(\n",
    "                nn.Conv2d(in_channels, out_channels, kernel_size=1, stride=(stride, 1)),\n",
    "                nn.BatchNorm2d(out_channels),\n",
    "            )\n",
    "\n",
    "        self.relu = nn.ReLU(inplace=True)\n",
    "\n",
    "    def forward(self, x, A):\n",
    "        res = self.residual(x)\n",
    "        x, A = self.gcn(x, A)\n",
    "        x = self.tcn(x) + res\n",
    "\n",
    "        return self.relu(x), A\n",
    "\n",
    "class FC(nn.Module):\n",
    "    \"\"\"\n",
    "    Fully connected layer head\n",
    "    Args:\n",
    "        n_features (int): Number of features in the input.\n",
    "        num_class (int): Number of class for classification.\n",
    "        dropout_ratio (float): Dropout ratio to use. Default: 0.2.\n",
    "        batch_norm (bool): Whether to use batch norm or not. Default: ``False``.\n",
    "    \"\"\"\n",
    "    def __init__(self, n_features, num_class, dropout_ratio=0.2, batch_norm=False):\n",
    "        super().__init__()\n",
    "        self.dropout = nn.Dropout(p=dropout_ratio)\n",
    "        self.bn = batch_norm\n",
    "        self.n_features = n_features\n",
    "        if batch_norm:\n",
    "            self.bn = nn.BatchNorm1d(self.n_features)\n",
    "            self.bn.weight.data.fill_(1)\n",
    "            self.bn.bias.data.zero_()\n",
    "        self.classifier = nn.Linear(n_features, num_class)\n",
    "        nn.init.normal_(self.classifier.weight, 0, math.sqrt(2.0 / num_class))\n",
    "\n",
    "    def forward(self, x):\n",
    "        \"\"\"\n",
    "        Args:\n",
    "            x (torch.Tensor): Input tensor of shape: (batch_size, n_features)\n",
    "        \n",
    "        returns:\n",
    "            torch.Tensor: logits for classification.\n",
    "        \"\"\"\n",
    "\n",
    "        x = self.dropout(x)\n",
    "        if self.bn:\n",
    "            x = self.bn(x)\n",
    "        x = self.classifier(x)\n",
    "        return x\n",
    "\n",
    "class Model(nn.Module):\n",
    "    \"\"\"Spatial temporal graph convolutional network backbone\n",
    "    \n",
    "    This module is proposed in\n",
    "    `Spatial Temporal Graph Convolutional Networks for Skeleton-Based Action Recognition\n",
    "    <https://arxiv.org/pdf/1801.07455.pdf>`_\n",
    "\n",
    "    Args:\n",
    "        in_channels (int): Number of channels in the input data.\n",
    "        graph_args (dict): The arguments for building the graph.\n",
    "        edge_importance_weighting (bool): If ``True``, adds a learnable importance weighting to the edges of the graph. Default: True.\n",
    "        n_out_features (int): Output Embedding dimension. Default: 256. \n",
    "        kwargs (dict): Other parameters for graph convolution units.\n",
    "    \"\"\"\n",
    "    def __init__(self,\n",
    "                 in_channels = 2,\n",
    "                 num_nodes = 29,\n",
    "                 center = 0,\n",
    "                 inward_edges = None,\n",
    "                 edge_importance_weighting = True,\n",
    "                 n_out_features = 256,\n",
    "                 n_classes = 1000,\n",
    "                 dropout_ratio = 0.05,\n",
    "                 batch_norm=False,) -> None:\n",
    "        super().__init__()\n",
    "\n",
    "        self.graph = GraphWithPartition(num_nodes, center, inward_edges)\n",
    "        A = torch.tensor(self.graph.A, dtype=torch.float32, requires_grad=False)\n",
    "        self.register_buffer(\"A\", A)\n",
    "\n",
    "        spatial_kernel_size = A.size(0)\n",
    "        temporal_kernel_size = 9\n",
    "        self.n_out_features = n_out_features\n",
    "        kernel_size = (temporal_kernel_size, spatial_kernel_size)\n",
    "        c = in_channels * A.size(1)\n",
    "        c = c.to(device)\n",
    "        self.data_bn = nn.BatchNorm1d(c)\n",
    "        self.st_gcn_networks = nn.ModuleList(\n",
    "            (\n",
    "                STGCN_BLOCK(in_channels, 64, kernel_size, 1, residual=False,),\n",
    "                STGCN_BLOCK(64, 64, kernel_size, 1,),\n",
    "                STGCN_BLOCK(64, 64, kernel_size, 1,),\n",
    "                STGCN_BLOCK(64, 64, kernel_size, 1,),\n",
    "                STGCN_BLOCK(64, 128, kernel_size, 2,),\n",
    "                STGCN_BLOCK(128, 128, kernel_size, 1,),\n",
    "                STGCN_BLOCK(128, 128, kernel_size, 1,),\n",
    "                STGCN_BLOCK(128, 256, kernel_size, 2,),\n",
    "                STGCN_BLOCK(256, 256, kernel_size, 1,),\n",
    "                STGCN_BLOCK(256, self.n_out_features, kernel_size, 1,),\n",
    "            )\n",
    "        )\n",
    "\n",
    "        if edge_importance_weighting:\n",
    "            self.edge_importance = nn.ParameterList(\n",
    "                [nn.Parameter(torch.ones(self.A.size())) for i in self.st_gcn_networks]\n",
    "            )\n",
    "        else:\n",
    "            self.edge_importance = [1] * len(self.st_gcn_networks)\n",
    "        \n",
    "        self.head = FC(self.n_out_features, n_classes, dropout_ratio, batch_norm)\n",
    "\n",
    "    def forward(self, x):\n",
    "        \"\"\"\n",
    "        Args: \n",
    "            x (torch.Tensor): Input tensor of shape :math:`(N, in\\_channels, T_{in}, V_{in})`\n",
    "        \n",
    "        Returns:\n",
    "            torch.Tensor: Output embedding of shape :math:`(N, n\\_out\\_features)`\n",
    "\n",
    "        where\n",
    "            - :math:`N` is a batch size,\n",
    "            - :math:`T_{in}` is a length of input sequence,\n",
    "            - :math:`V_{in}` is the number of graph nodes,\n",
    "            - :math:`n\\_out\\_features` is the output embedding dimension.\n",
    "\n",
    "            our input is in shape ntvc\n",
    "        \"\"\"\n",
    "        N, C, T, V = x.size()\n",
    "        x = x.permute(0, 3, 1, 2).contiguous() # NCTV -> NVCT\n",
    "        x = x.view(N, V * C, T)\n",
    "        x = self.data_bn(x)\n",
    "        x = x.view(N, V, C, T)\n",
    "        x = x.permute(0, 2, 3, 1).contiguous() # NVCT -> NCTV\n",
    "\n",
    "        for gcn, importance in zip(self.st_gcn_networks, self.edge_importance):\n",
    "            x, _ = gcn(x, self.A * importance)\n",
    "\n",
    "        x = F.avg_pool2d(x, x.size()[2:])\n",
    "        x = x.view(N, -1)\n",
    "\n",
    "        return self.head(x)\n",
    "\n"
   ]
  },
  {
   "cell_type": "code",
   "execution_count": 65,
   "metadata": {
    "execution": {
     "iopub.execute_input": "2024-12-07T04:40:41.282906Z",
     "iopub.status.busy": "2024-12-07T04:40:41.282577Z",
     "iopub.status.idle": "2024-12-07T04:40:41.305729Z",
     "shell.execute_reply": "2024-12-07T04:40:41.304779Z",
     "shell.execute_reply.started": "2024-12-07T04:40:41.282880Z"
    },
    "trusted": true
   },
   "outputs": [],
   "source": [
    "import torch\n",
    "import torch.nn as nn\n",
    "import torch.nn.functional as F\n",
    "import math\n",
    "\n",
    "class ConvTemporalGraphical(nn.Module):\n",
    "    \"\"\"The basic module for applying a graph convolution.\n",
    "    Args:\n",
    "        in_channels (int): Number of channels in the input sequence data.\n",
    "        out_channels (int): Number of channels produced by the convolution.\n",
    "        kernel_size (int): Size of the graph convolving kernel.\n",
    "        t_kernel_size (int): Size of the temporal convolving kernel.\n",
    "        t_stride (int, optional): Stride of the temporal convolution. Default: 1.\n",
    "        t_padding (int, optional): Temporal zero-padding added to both sides\n",
    "            of the input. Default: 0.\n",
    "        t_dilation (int, optional): Spacing between temporal kernel elements.\n",
    "            Default: 1.\n",
    "        bias (bool, optional): If ``True``, adds a learnable bias to the\n",
    "            output. Default: ``True``.\n",
    "    Shape:\n",
    "        - Input[0]: Input graph sequence in :math:`(N, in_channels, T_{in}, V)`\n",
    "            format\n",
    "        - Input[1]: Input graph adjacency matrix in :math:`(K, V, V)` format\n",
    "        - Output[0]: Output graph sequence in :math:`(N, out_channels, T_{out}\n",
    "            , V)` format\n",
    "        - Output[1]: Graph adjacency matrix for output data in :math:`(K, V, V)\n",
    "            ` format\n",
    "        where\n",
    "            :math:`N` is a batch size,\n",
    "            :math:`K` is the spatial kernel size, as :math:`K == kernel_size[1]\n",
    "                `,\n",
    "            :math:`T_{in}/T_{out}` is a length of input/output sequence,\n",
    "            :math:`V` is the number of graph nodes.\n",
    "    \"\"\"\n",
    "    def __init__(\n",
    "        self,\n",
    "        in_channels,\n",
    "        out_channels,\n",
    "        kernel_size,\n",
    "        t_kernel_size=1,\n",
    "        t_stride=1,\n",
    "        t_padding=0,\n",
    "        t_dilation=1,\n",
    "        bias=True,\n",
    "    ):\n",
    "        super().__init__()\n",
    "\n",
    "        self.kernel_size = kernel_size\n",
    "        self.conv = nn.Conv2d(\n",
    "            in_channels,\n",
    "            out_channels * kernel_size,\n",
    "            kernel_size=(t_kernel_size, 1),\n",
    "            padding=(t_padding, 0),\n",
    "            stride=(t_stride, 1),\n",
    "            dilation=(t_dilation, 1),\n",
    "            bias=bias,\n",
    "        )\n",
    "\n",
    "    def forward(self, x, A):\n",
    "        assert A.size(0) == self.kernel_size\n",
    "\n",
    "        x = self.conv(x)\n",
    "        n, kc, t, v = x.size()\n",
    "        x = x.view(n, self.kernel_size, kc // self.kernel_size, t, v)\n",
    "        x = torch.einsum(\"nkctv,kvw->nctw\", (x, A))\n",
    "\n",
    "        return x.contiguous(), A                                                                                \n",
    "\n",
    "\n",
    "class STGCN_BLOCK(nn.Module):\n",
    "    \"\"\"\n",
    "    Applies a spatial temporal graph convolution over an input graph\n",
    "    sequence.\n",
    "\n",
    "    Args:\n",
    "        in_channels (int): Number of channels in the input sequence data.\n",
    "        out_channels (int): Number of channels produced by the convolution.\n",
    "        kernel_size (tuple): Size of the temporal convolving kernel and\n",
    "            graph convolving kernel.\n",
    "        stride (int, optional): Stride of the temporal convolution. Default: 1.\n",
    "        dropout (int, optional): Dropout rate of the final output. Default: 0.\n",
    "        residual (bool, optional): If ``True``, applies a residual mechanism. Default: ``True``.\n",
    "    Shape:\n",
    "        - Input[0]: Input graph sequence in :math:`(N, in_channels, T_{in}, V)`\n",
    "            format.\n",
    "        - Input[1]: Input graph adjacency matrix in :math:`(K, V, V)` format\n",
    "        - Output[0]: Output graph sequence in :math:`(N, out_channels, T_{out},\n",
    "            V)` format.\n",
    "        - Output[1]: Graph adjacency matrix for output data in :math:`(K, V,\n",
    "            V)` format.\n",
    "        where\n",
    "            :math:`N` is a batch size,\n",
    "            :math:`K` is the spatial kernel size, as :math:`K == kernel_size[1]`,\n",
    "            :math:`T_{in}/T_{out}` is a length of input/output sequence,\n",
    "            :math:`V` is the number of graph nodes.\n",
    "    \"\"\"\n",
    "    def __init__(\n",
    "        self, in_channels, out_channels, kernel_size, stride=1, dropout=0, residual=True\n",
    "    ):\n",
    "        super().__init__()\n",
    "\n",
    "        assert len(kernel_size) == 2\n",
    "        assert kernel_size[0] % 2 == 1\n",
    "        padding = ((kernel_size[0] - 1) // 2, 0)\n",
    "\n",
    "        self.gcn = ConvTemporalGraphical(in_channels, out_channels, kernel_size[1])\n",
    "\n",
    "        self.tcn = nn.Sequential(\n",
    "            nn.BatchNorm2d(out_channels),\n",
    "            nn.ReLU(inplace=True),\n",
    "            nn.Conv2d(\n",
    "                out_channels,\n",
    "                out_channels,\n",
    "                (kernel_size[0], 1),\n",
    "                (stride, 1),\n",
    "                padding,\n",
    "            ),\n",
    "            nn.BatchNorm2d(out_channels),\n",
    "            nn.Dropout(dropout, inplace=True),\n",
    "        )\n",
    "\n",
    "        if not residual:\n",
    "            self.residual = lambda x: 0\n",
    "\n",
    "        elif (in_channels == out_channels) and (stride == 1):\n",
    "            self.residual = lambda x: x\n",
    "\n",
    "        else:\n",
    "            self.residual = nn.Sequential(\n",
    "                nn.Conv2d(in_channels, out_channels, kernel_size=1, stride=(stride, 1)),\n",
    "                nn.BatchNorm2d(out_channels),\n",
    "            )\n",
    "\n",
    "        self.relu = nn.ReLU(inplace=True)\n",
    "\n",
    "    def forward(self, x, A):\n",
    "        res = self.residual(x)\n",
    "        x, A = self.gcn(x, A)\n",
    "        x = self.tcn(x) + res\n",
    "\n",
    "        return self.relu(x), A\n",
    "\n",
    "class FC(nn.Module):\n",
    "    \"\"\"\n",
    "    Fully connected layer head\n",
    "    Args:\n",
    "        n_features (int): Number of features in the input.\n",
    "        num_class (int): Number of class for classification.\n",
    "        dropout_ratio (float): Dropout ratio to use. Default: 0.2.\n",
    "        batch_norm (bool): Whether to use batch norm or not. Default: ``False``.\n",
    "    \"\"\"\n",
    "    def __init__(self, n_features, num_class, dropout_ratio=0.2, batch_norm=False):\n",
    "        super().__init__()\n",
    "        self.dropout = nn.Dropout(p=dropout_ratio)\n",
    "        self.bn = batch_norm\n",
    "        self.n_features = n_features\n",
    "        if batch_norm:\n",
    "            self.bn = nn.BatchNorm1d(self.n_features)\n",
    "            self.bn.weight.data.fill_(1)\n",
    "            self.bn.bias.data.zero_()\n",
    "        self.classifier = nn.Linear(n_features, num_class)\n",
    "        nn.init.normal_(self.classifier.weight, 0, math.sqrt(2.0 / num_class))\n",
    "\n",
    "    def forward(self, x):\n",
    "        \"\"\"\n",
    "        Args:\n",
    "            x (torch.Tensor): Input tensor of shape: (batch_size, n_features)\n",
    "        \n",
    "        returns:\n",
    "            torch.Tensor: logits for classification.\n",
    "        \"\"\"\n",
    "\n",
    "        x = self.dropout(x)\n",
    "        if self.bn:\n",
    "            x = self.bn(x)\n",
    "        x = self.classifier(x)\n",
    "        return x\n",
    "\n",
    "class Model(nn.Module):\n",
    "    \"\"\"Spatial temporal graph convolutional network backbone\n",
    "    \n",
    "    This module is proposed in\n",
    "    `Spatial Temporal Graph Convolutional Networks for Skeleton-Based Action Recognition\n",
    "    <https://arxiv.org/pdf/1801.07455.pdf>`_\n",
    "\n",
    "    Args:\n",
    "        in_channels (int): Number of channels in the input data.\n",
    "        graph_args (dict): The arguments for building the graph.\n",
    "        edge_importance_weighting (bool): If ``True``, adds a learnable importance weighting to the edges of the graph. Default: True.\n",
    "        n_out_features (int): Output Embedding dimension. Default: 256. \n",
    "        kwargs (dict): Other parameters for graph convolution units.\n",
    "    \"\"\"\n",
    "    def __init__(self,\n",
    "                 in_channels = 2,\n",
    "                 num_nodes = 29,\n",
    "                 center = 0,\n",
    "                 inward_edges = None,\n",
    "                 edge_importance_weighting = True,\n",
    "                 n_out_features = 256,\n",
    "                 n_classes = 1000,\n",
    "                 dropout_ratio = 0.05,\n",
    "                 batch_norm=False,) -> None:\n",
    "        super().__init__()\n",
    "\n",
    "        self.graph = GraphWithPartition(num_nodes, center, inward_edges)\n",
    "        A = torch.tensor(self.graph.A, dtype=torch.float32, requires_grad=False)\n",
    "        self.register_buffer(\"A\", A)\n",
    "\n",
    "        spatial_kernel_size = A.size(0)\n",
    "        temporal_kernel_size = 9\n",
    "        self.n_out_features = n_out_features\n",
    "        kernel_size = (temporal_kernel_size, spatial_kernel_size)\n",
    "        self.data_bn = nn.BatchNorm1d(in_channels * A.size(1))\n",
    "        self.st_gcn_networks = nn.ModuleList(\n",
    "            (\n",
    "                STGCN_BLOCK(in_channels, 64, kernel_size, 1, residual=False,),\n",
    "                STGCN_BLOCK(64, 64, kernel_size, 1,),\n",
    "                STGCN_BLOCK(64, 64, kernel_size, 1,),\n",
    "                STGCN_BLOCK(64, 64, kernel_size, 1,),\n",
    "                STGCN_BLOCK(64, 128, kernel_size, 2,),\n",
    "                STGCN_BLOCK(128, 128, kernel_size, 1,),\n",
    "                STGCN_BLOCK(128, 128, kernel_size, 1,),\n",
    "                STGCN_BLOCK(128, 256, kernel_size, 2,),\n",
    "                STGCN_BLOCK(256, 256, kernel_size, 1,),\n",
    "                STGCN_BLOCK(256, self.n_out_features, kernel_size, 1,),\n",
    "            )\n",
    "        )\n",
    "\n",
    "        if edge_importance_weighting:\n",
    "            self.edge_importance = nn.ParameterList(\n",
    "                [nn.Parameter(torch.ones(self.A.size())) for i in self.st_gcn_networks]\n",
    "            )\n",
    "        else:\n",
    "            self.edge_importance = [1] * len(self.st_gcn_networks)\n",
    "        \n",
    "        self.head = FC(self.n_out_features, n_classes, dropout_ratio, batch_norm)\n",
    "\n",
    "    def forward(self, x):\n",
    "        \"\"\"\n",
    "        Args: \n",
    "            x (torch.Tensor): Input tensor of shape :math:`(N, in\\_channels, T_{in}, V_{in})`\n",
    "        \n",
    "        Returns:\n",
    "            torch.Tensor: Output embedding of shape :math:`(N, n\\_out\\_features)`\n",
    "\n",
    "        where\n",
    "            - :math:`N` is a batch size,\n",
    "            - :math:`T_{in}` is a length of input sequence,\n",
    "            - :math:`V_{in}` is the number of graph nodes,\n",
    "            - :math:`n\\_out\\_features` is the output embedding dimension.\n",
    "\n",
    "            our input is in shape ntvc\n",
    "        \"\"\"\n",
    "        N, C, T, V = x.size()\n",
    "        x = x.permute(0, 3, 1, 2).contiguous() # NCTV -> NVCT\n",
    "        x = x.view(N, V * C, T)\n",
    "        x = self.data_bn(x)\n",
    "        x = x.view(N, V, C, T)\n",
    "        x = x.permute(0, 2, 3, 1).contiguous() # NVCT -> NCTV\n",
    "\n",
    "        for gcn, importance in zip(self.st_gcn_networks, self.edge_importance):\n",
    "            x, _ = gcn(x, self.A * importance)\n",
    "\n",
    "        x = F.avg_pool2d(x, x.size()[2:])\n",
    "        x = x.view(N, -1)\n",
    "\n",
    "        return self.head(x)\n",
    "\n"
   ]
  },
  {
   "cell_type": "code",
   "execution_count": 66,
   "metadata": {
    "execution": {
     "iopub.execute_input": "2024-12-07T04:40:41.308217Z",
     "iopub.status.busy": "2024-12-07T04:40:41.307963Z",
     "iopub.status.idle": "2024-12-07T04:40:41.319275Z",
     "shell.execute_reply": "2024-12-07T04:40:41.318498Z",
     "shell.execute_reply.started": "2024-12-07T04:40:41.308192Z"
    },
    "trusted": true
   },
   "outputs": [],
   "source": [
    "import torch\n",
    "import torch.nn as nn\n",
    "import pandas as pd\n",
    "import os\n",
    "from torch.utils.data import Dataset\n",
    "import random\n",
    "import numpy as np\n",
    "import torch.optim as optim\n",
    "from torch.utils.data import DataLoader, Subset\n",
    "from sklearn.model_selection import train_test_split\n",
    "from sklearn.preprocessing import LabelEncoder\n",
    "import torch.nn.functional as F\n",
    "import math"
   ]
  },
  {
   "cell_type": "code",
   "execution_count": 67,
   "metadata": {
    "execution": {
     "iopub.execute_input": "2024-12-07T04:40:41.320625Z",
     "iopub.status.busy": "2024-12-07T04:40:41.320344Z",
     "iopub.status.idle": "2024-12-07T04:40:41.332383Z",
     "shell.execute_reply": "2024-12-07T04:40:41.331648Z",
     "shell.execute_reply.started": "2024-12-07T04:40:41.320601Z"
    },
    "trusted": true
   },
   "outputs": [],
   "source": [
    "# DATA_PATH = 'skeleton_dataset/Skeletons/skeleton_data_xys_without_fix_number_frame/' \n",
    "DATA_PATH = '/kaggle/input/data-vietnam/skeleton_data_xys_fix50frame/' \n",
    "NUM_FRAMES = 30"
   ]
  },
  {
   "cell_type": "code",
   "execution_count": 68,
   "metadata": {
    "execution": {
     "iopub.execute_input": "2024-12-07T04:40:41.334051Z",
     "iopub.status.busy": "2024-12-07T04:40:41.333433Z",
     "iopub.status.idle": "2024-12-07T04:40:41.345091Z",
     "shell.execute_reply": "2024-12-07T04:40:41.344271Z",
     "shell.execute_reply.started": "2024-12-07T04:40:41.334013Z"
    },
    "trusted": true
   },
   "outputs": [],
   "source": [
    "class VideoDataset(Dataset):\n",
    "    def __init__(self, data_path, transform=None):\n",
    "        self.videos = []\n",
    "        self.labels = []\n",
    "        self.transform = transform\n",
    "        self.label_encoder = LabelEncoder()\n",
    "        \n",
    "        # Duyệt qua tất cả các thư mục con trong thư mục gốc (data_path)\n",
    "        for folder_name in os.listdir(data_path):\n",
    "            folder_path = os.path.join(data_path, folder_name)\n",
    "\n",
    "            # Kiểm tra nếu đây là một thư mục\n",
    "            if os.path.isdir(folder_path):\n",
    "                # Duyệt qua tất cả các file CSV trong thư mục con\n",
    "                for filename in os.listdir(folder_path):\n",
    "                    if filename.endswith('.csv'):\n",
    "                        # Đọc từng file CSV, bỏ qua cột đầu tiên (STT)\n",
    "                        file_path = os.path.join(folder_path, filename)\n",
    "                        df = pd.read_csv(file_path)\n",
    "\n",
    "                        # Bỏ qua cột đầu tiên (STT của frame)\n",
    "                        data = df.iloc[:, 1:].values  # (T, V*3), bỏ cột đầu tiên\n",
    "\n",
    "                        # Tính toán số khớp (V) từ số cột trong CSV\n",
    "                        V = data.shape[1] // 3  # Mỗi khớp có 3 giá trị (x, y, z)\n",
    "                        T = data.shape[0]  # Số khung hình (frames)\n",
    "                        C = 3  # Số chiều tọa độ (x, y, z)\n",
    "\n",
    "                        # Reshape dữ liệu từ (T, V*3) -> (T, V, C)\n",
    "                        video_data = data.reshape(T, V, C)\n",
    "\n",
    "                        # Thêm video vào danh sách videos\n",
    "                        self.videos.append(video_data)\n",
    "\n",
    "                        # Thêm nhãn vào danh sách labels (tên thư mục chứa file)\n",
    "                        self.labels.append(folder_name)\n",
    "        # Mã hóa nhãn từ chuỗi thành số nguyên\n",
    "        self.classes = self.labels\n",
    "        self.labels = self.label_encoder.fit_transform(self.labels)\n",
    "        # Tạo tập hợp các cặp (label, class) duy nhất\n",
    "        unique_pairs = set(zip(self.labels, self.classes))\n",
    "        \n",
    "        # Ghi các cặp duy nhất vào file\n",
    "        with open(\"class_mapping.txt\", \"a\", encoding=\"utf-8\") as file:\n",
    "            for label, cls in unique_pairs:\n",
    "                file.write(f\"{label}\\t{cls}\\n\")\n",
    "\n",
    "\n",
    "    def __len__(self):\n",
    "        return len(self.videos)\n",
    "\n",
    "    def __getitem__(self, idx):\n",
    "        video = self.videos[idx]\n",
    "        label = self.labels[idx]\n",
    "        \n",
    "\n",
    "        if self.transform:\n",
    "            video = self.transform(video)\n",
    "        \n",
    "        return video, label\n"
   ]
  },
  {
   "cell_type": "code",
   "execution_count": 69,
   "metadata": {
    "execution": {
     "iopub.execute_input": "2024-12-07T04:40:41.346243Z",
     "iopub.status.busy": "2024-12-07T04:40:41.346006Z",
     "iopub.status.idle": "2024-12-07T04:40:41.360005Z",
     "shell.execute_reply": "2024-12-07T04:40:41.359220Z",
     "shell.execute_reply.started": "2024-12-07T04:40:41.346220Z"
    },
    "trusted": true
   },
   "outputs": [],
   "source": [
    "import random\n",
    "import numpy as np\n",
    "import torch\n",
    "\n",
    "class RandomFrameSampler:\n",
    "    def __init__(self, num_frames):\n",
    "        self.num_frames = num_frames\n",
    "\n",
    "    def __call__(self, video):\n",
    "        \"\"\"\n",
    "        Lấy ngẫu nhiên num_frames từ video, trải đều toàn bộ video.\n",
    "        Nếu số khung hình của video < num_frames, sẽ lặp lại các khung hình.\n",
    "        Args:\n",
    "            video: Tensor có kích thước (T, V, C) với T là số khung hình.\n",
    "        Returns:\n",
    "            sampled_video: Tensor có kích thước (num_frames, V, C).\n",
    "        \"\"\"\n",
    "        T = video.shape[0]\n",
    "        \n",
    "        if T >= self.num_frames:\n",
    "            # Chia video thành các khoảng đều nhau và chọn một khung hình từ mỗi khoảng\n",
    "            intervals = np.linspace(0, T, self.num_frames, endpoint=False, dtype=int)\n",
    "            selected_indices = [random.randint(start, min(start + (T // self.num_frames), T - 1)) for start in intervals]\n",
    "            sampled_video = video[selected_indices]\n",
    "        else:\n",
    "            # Nếu T < num_frames, lặp lại các khung hình để đạt số lượng cần thiết\n",
    "            sampled_video = video[np.random.choice(T, self.num_frames, replace=True)]\n",
    "        \n",
    "        return torch.tensor(sampled_video, dtype=torch.float32)\n"
   ]
  },
  {
   "cell_type": "code",
   "execution_count": 70,
   "metadata": {
    "execution": {
     "iopub.execute_input": "2024-12-07T04:40:41.361043Z",
     "iopub.status.busy": "2024-12-07T04:40:41.360835Z",
     "iopub.status.idle": "2024-12-07T04:40:50.313783Z",
     "shell.execute_reply": "2024-12-07T04:40:50.312860Z",
     "shell.execute_reply.started": "2024-12-07T04:40:41.361022Z"
    },
    "trusted": true
   },
   "outputs": [],
   "source": [
    "sampler = RandomFrameSampler(num_frames=30)\n",
    "dataset = VideoDataset(data_path=DATA_PATH, transform=sampler)"
   ]
  },
  {
   "cell_type": "code",
   "execution_count": 71,
   "metadata": {
    "execution": {
     "iopub.execute_input": "2024-12-07T04:40:50.315096Z",
     "iopub.status.busy": "2024-12-07T04:40:50.314836Z",
     "iopub.status.idle": "2024-12-07T04:40:50.319428Z",
     "shell.execute_reply": "2024-12-07T04:40:50.318492Z",
     "shell.execute_reply.started": "2024-12-07T04:40:50.315071Z"
    },
    "trusted": true
   },
   "outputs": [],
   "source": [
    "dataset_len = len(dataset)"
   ]
  },
  {
   "cell_type": "code",
   "execution_count": 72,
   "metadata": {
    "execution": {
     "iopub.execute_input": "2024-12-07T04:40:50.322591Z",
     "iopub.status.busy": "2024-12-07T04:40:50.322302Z",
     "iopub.status.idle": "2024-12-07T04:40:50.332137Z",
     "shell.execute_reply": "2024-12-07T04:40:50.331273Z",
     "shell.execute_reply.started": "2024-12-07T04:40:50.322565Z"
    },
    "trusted": true
   },
   "outputs": [
    {
     "name": "stdout",
     "output_type": "stream",
     "text": [
      "torch.Size([30, 67, 3])\n"
     ]
    }
   ],
   "source": [
    "print(dataset[0][0].shape)"
   ]
  },
  {
   "cell_type": "code",
   "execution_count": 73,
   "metadata": {
    "execution": {
     "iopub.execute_input": "2024-12-07T04:40:50.333382Z",
     "iopub.status.busy": "2024-12-07T04:40:50.333107Z",
     "iopub.status.idle": "2024-12-07T04:40:50.492662Z",
     "shell.execute_reply": "2024-12-07T04:40:50.491981Z",
     "shell.execute_reply.started": "2024-12-07T04:40:50.333357Z"
    },
    "trusted": true
   },
   "outputs": [],
   "source": [
    "values = []\n",
    "lable_decode = []\n",
    "for value, lable in dataset:\n",
    "    values.append(value.permute(2, 0, 1))\n",
    "    lable_decode.append(lable)"
   ]
  },
  {
   "cell_type": "code",
   "execution_count": 74,
   "metadata": {
    "execution": {
     "iopub.execute_input": "2024-12-07T04:40:50.493931Z",
     "iopub.status.busy": "2024-12-07T04:40:50.493667Z",
     "iopub.status.idle": "2024-12-07T04:40:50.498411Z",
     "shell.execute_reply": "2024-12-07T04:40:50.497686Z",
     "shell.execute_reply.started": "2024-12-07T04:40:50.493906Z"
    },
    "trusted": true
   },
   "outputs": [
    {
     "name": "stdout",
     "output_type": "stream",
     "text": [
      "[10, 10, 10, 10, 10, 10, 10, 10, 10, 10, 10, 10, 10, 10, 10, 10, 10, 10, 10, 10, 10, 10, 10, 10, 43, 43, 43, 43, 43, 43, 43, 43, 43, 43, 43, 43, 43, 43, 43, 43, 43, 43, 43, 43, 43, 1, 1, 1, 1, 1, 1, 1, 1, 1, 1, 1, 1, 1, 1, 1, 1, 1, 1, 22, 22, 22, 22, 22, 22, 22, 22, 22, 22, 22, 22, 22, 22, 22, 22, 22, 22, 22, 22, 22, 41, 41, 41, 41, 41, 41, 41, 41, 41, 41, 41, 41, 41, 41, 41, 41, 41, 41, 41, 41, 41, 17, 17, 17, 17, 17, 17, 17, 17, 17, 17, 17, 17, 17, 17, 17, 17, 17, 14, 14, 14, 14, 14, 14, 14, 14, 14, 14, 14, 14, 14, 14, 14, 14, 14, 14, 14, 14, 14, 14, 14, 21, 21, 21, 21, 21, 21, 37, 37, 37, 37, 37, 37, 37, 37, 37, 37, 37, 37, 37, 37, 37, 37, 37, 37, 6, 6, 6, 6, 6, 6, 6, 6, 6, 6, 6, 6, 6, 6, 6, 6, 6, 6, 6, 6, 6, 6, 11, 11, 11, 11, 11, 11, 11, 11, 11, 11, 11, 11, 11, 11, 11, 11, 11, 11, 11, 11, 53, 53, 53, 53, 53, 53, 53, 53, 53, 53, 53, 53, 53, 53, 53, 53, 53, 53, 53, 53, 53, 53, 53, 53, 53, 53, 53, 53, 53, 53, 16, 16, 16, 16, 16, 16, 16, 16, 16, 16, 16, 16, 16, 16, 16, 16, 16, 16, 16, 16, 16, 16, 16, 16, 16, 44, 44, 44, 44, 44, 44, 15, 15, 15, 15, 15, 15, 15, 15, 15, 15, 15, 15, 15, 15, 15, 15, 15, 15, 15, 15, 15, 15, 15, 55, 55, 55, 55, 55, 55, 55, 55, 55, 55, 55, 55, 55, 55, 55, 55, 55, 55, 55, 55, 55, 55, 55, 55, 30, 30, 30, 30, 30, 30, 30, 30, 30, 30, 30, 30, 30, 30, 30, 30, 30, 30, 30, 30, 30, 30, 30, 30, 30, 30, 4, 4, 4, 4, 4, 4, 4, 4, 4, 4, 26, 26, 26, 26, 26, 26, 26, 26, 26, 26, 26, 26, 26, 26, 26, 26, 26, 26, 26, 26, 26, 29, 29, 29, 29, 29, 29, 29, 29, 29, 29, 29, 29, 29, 29, 29, 29, 29, 29, 29, 29, 29, 29, 29, 29, 47, 47, 47, 47, 47, 47, 47, 47, 47, 47, 47, 47, 47, 47, 47, 47, 47, 47, 47, 47, 47, 47, 47, 47, 47, 47, 47, 47, 47, 47, 47, 47, 47, 47, 47, 49, 49, 49, 49, 49, 49, 49, 49, 49, 49, 49, 49, 49, 49, 49, 49, 49, 49, 49, 49, 18, 18, 18, 18, 18, 18, 18, 18, 18, 18, 18, 18, 18, 18, 18, 18, 18, 18, 18, 18, 18, 18, 18, 18, 18, 51, 51, 51, 51, 51, 51, 51, 51, 51, 51, 51, 51, 51, 51, 51, 51, 51, 51, 51, 51, 51, 51, 51, 51, 19, 19, 19, 19, 19, 19, 19, 19, 19, 19, 19, 19, 19, 19, 19, 19, 19, 19, 19, 19, 19, 19, 19, 19, 42, 42, 42, 42, 42, 42, 42, 42, 42, 42, 42, 42, 42, 42, 42, 42, 42, 42, 42, 42, 42, 27, 27, 27, 27, 27, 27, 27, 27, 27, 27, 27, 27, 27, 27, 27, 27, 27, 27, 27, 27, 27, 27, 27, 27, 27, 27, 27, 24, 24, 24, 24, 24, 24, 24, 24, 24, 24, 24, 24, 24, 24, 24, 24, 24, 24, 24, 24, 24, 24, 24, 24, 20, 20, 20, 20, 20, 20, 20, 20, 20, 20, 20, 20, 20, 20, 20, 20, 20, 20, 20, 20, 20, 20, 20, 20, 20, 20, 40, 40, 40, 40, 40, 40, 40, 40, 40, 40, 40, 40, 40, 40, 40, 40, 40, 40, 40, 40, 40, 40, 40, 40, 40, 40, 50, 50, 50, 50, 50, 50, 50, 50, 50, 50, 50, 50, 50, 50, 50, 50, 50, 50, 50, 50, 50, 50, 50, 50, 50, 5, 5, 5, 5, 5, 5, 5, 5, 5, 5, 5, 5, 5, 5, 5, 5, 5, 5, 5, 5, 5, 5, 35, 35, 35, 35, 35, 35, 35, 35, 35, 35, 35, 35, 35, 35, 35, 35, 35, 35, 54, 54, 54, 54, 54, 54, 54, 54, 54, 54, 54, 54, 54, 54, 54, 54, 54, 54, 54, 3, 3, 3, 3, 3, 3, 3, 3, 3, 3, 3, 3, 3, 3, 3, 3, 3, 3, 3, 3, 3, 3, 3, 3, 3, 3, 3, 12, 12, 12, 12, 12, 12, 12, 12, 12, 12, 12, 12, 12, 12, 12, 12, 12, 12, 12, 12, 12, 12, 12, 12, 12, 12, 12, 12, 36, 36, 36, 36, 36, 36, 36, 36, 36, 36, 36, 36, 36, 36, 36, 36, 36, 36, 36, 36, 36, 36, 36, 36, 36, 36, 36, 36, 36, 36, 39, 39, 39, 39, 39, 39, 39, 39, 39, 39, 39, 39, 39, 39, 39, 39, 39, 39, 39, 39, 39, 39, 39, 39, 39, 39, 39, 39, 38, 38, 38, 38, 38, 38, 38, 38, 38, 38, 38, 38, 38, 38, 38, 38, 38, 38, 38, 38, 38, 38, 38, 38, 38, 34, 34, 34, 34, 34, 34, 34, 34, 34, 34, 34, 34, 34, 34, 34, 34, 34, 34, 34, 34, 34, 34, 34, 34, 2, 2, 2, 2, 2, 2, 2, 2, 2, 2, 2, 2, 2, 2, 2, 2, 2, 2, 2, 2, 2, 52, 52, 52, 52, 52, 52, 52, 52, 52, 52, 52, 52, 52, 52, 52, 52, 52, 52, 52, 52, 52, 52, 52, 52, 52, 52, 46, 46, 46, 46, 46, 46, 46, 46, 46, 46, 46, 46, 46, 46, 46, 46, 46, 46, 46, 46, 46, 46, 46, 46, 46, 46, 46, 46, 46, 46, 46, 45, 45, 45, 45, 45, 45, 45, 45, 45, 45, 45, 45, 45, 45, 45, 45, 45, 45, 45, 45, 45, 45, 45, 45, 45, 45, 45, 45, 45, 45, 13, 13, 13, 13, 13, 13, 13, 13, 13, 13, 13, 13, 13, 13, 13, 13, 13, 13, 13, 13, 13, 13, 13, 13, 13, 31, 31, 31, 31, 31, 31, 31, 31, 31, 31, 31, 31, 31, 31, 31, 31, 31, 31, 31, 31, 31, 31, 31, 32, 32, 32, 32, 32, 32, 32, 32, 32, 32, 32, 32, 32, 32, 32, 32, 32, 32, 32, 32, 32, 32, 32, 32, 32, 32, 32, 32, 33, 33, 33, 33, 33, 33, 33, 33, 33, 33, 33, 33, 33, 33, 33, 33, 33, 33, 33, 33, 33, 33, 33, 33, 33, 25, 25, 25, 25, 25, 25, 25, 25, 25, 25, 25, 25, 25, 25, 25, 25, 25, 25, 25, 25, 25, 25, 25, 25, 25, 25, 48, 48, 48, 48, 48, 48, 48, 48, 48, 48, 8, 8, 8, 8, 8, 8, 8, 8, 8, 8, 8, 8, 8, 8, 8, 8, 8, 56, 56, 56, 56, 56, 56, 56, 56, 56, 56, 56, 56, 56, 56, 56, 56, 56, 56, 56, 56, 56, 56, 56, 56, 56, 56, 28, 28, 28, 28, 28, 28, 28, 28, 28, 28, 28, 28, 28, 28, 28, 28, 28, 28, 28, 0, 0, 0, 0, 0, 0, 0, 0, 0, 0, 0, 0, 0, 0, 0, 0, 0, 0, 9, 9, 9, 9, 9, 9, 9, 9, 9, 9, 9, 9, 9, 9, 9, 9, 9, 9, 9, 9, 9, 9, 9, 9, 9, 23, 23, 23, 23, 23, 23, 23, 23, 23, 23, 23, 23, 23, 23, 23, 23, 23, 23, 23, 23, 23, 23, 23, 23, 23, 23, 7, 7, 7, 7, 7, 7, 7, 7, 7, 7, 7, 7, 7]\n"
     ]
    }
   ],
   "source": [
    "print(lable_decode)"
   ]
  },
  {
   "cell_type": "code",
   "execution_count": 75,
   "metadata": {
    "execution": {
     "iopub.execute_input": "2024-12-07T04:40:50.499841Z",
     "iopub.status.busy": "2024-12-07T04:40:50.499546Z",
     "iopub.status.idle": "2024-12-07T04:40:50.509845Z",
     "shell.execute_reply": "2024-12-07T04:40:50.508960Z",
     "shell.execute_reply.started": "2024-12-07T04:40:50.499808Z"
    },
    "trusted": true
   },
   "outputs": [
    {
     "data": {
      "text/plain": [
       "torch.Size([3, 30, 67])"
      ]
     },
     "execution_count": 75,
     "metadata": {},
     "output_type": "execute_result"
    }
   ],
   "source": [
    "values[0].shape"
   ]
  },
  {
   "cell_type": "code",
   "execution_count": 76,
   "metadata": {
    "execution": {
     "iopub.execute_input": "2024-12-07T04:40:50.510974Z",
     "iopub.status.busy": "2024-12-07T04:40:50.510703Z",
     "iopub.status.idle": "2024-12-07T04:40:50.546529Z",
     "shell.execute_reply": "2024-12-07T04:40:50.545712Z",
     "shell.execute_reply.started": "2024-12-07T04:40:50.510950Z"
    },
    "trusted": true
   },
   "outputs": [],
   "source": [
    "batch = torch.stack(values, dim=0)"
   ]
  },
  {
   "cell_type": "code",
   "execution_count": 77,
   "metadata": {
    "execution": {
     "iopub.execute_input": "2024-12-07T04:40:50.547717Z",
     "iopub.status.busy": "2024-12-07T04:40:50.547444Z",
     "iopub.status.idle": "2024-12-07T04:40:50.552937Z",
     "shell.execute_reply": "2024-12-07T04:40:50.552127Z",
     "shell.execute_reply.started": "2024-12-07T04:40:50.547693Z"
    },
    "trusted": true
   },
   "outputs": [
    {
     "data": {
      "text/plain": [
       "torch.Size([1287, 3, 30, 67])"
      ]
     },
     "execution_count": 77,
     "metadata": {},
     "output_type": "execute_result"
    }
   ],
   "source": [
    "batch.shape"
   ]
  },
  {
   "cell_type": "code",
   "execution_count": 78,
   "metadata": {
    "execution": {
     "iopub.execute_input": "2024-12-07T04:40:50.554406Z",
     "iopub.status.busy": "2024-12-07T04:40:50.554098Z",
     "iopub.status.idle": "2024-12-07T04:40:50.565666Z",
     "shell.execute_reply": "2024-12-07T04:40:50.564864Z",
     "shell.execute_reply.started": "2024-12-07T04:40:50.554372Z"
    },
    "trusted": true
   },
   "outputs": [
    {
     "name": "stdout",
     "output_type": "stream",
     "text": [
      "tensor([[[True, True, True,  ..., True, True, True],\n",
      "         [True, True, True,  ..., True, True, True],\n",
      "         [True, True, True,  ..., True, True, True],\n",
      "         ...,\n",
      "         [True, True, True,  ..., True, True, True],\n",
      "         [True, True, True,  ..., True, True, True],\n",
      "         [True, True, True,  ..., True, True, True]],\n",
      "\n",
      "        [[True, True, True,  ..., True, True, True],\n",
      "         [True, True, True,  ..., True, True, True],\n",
      "         [True, True, True,  ..., True, True, True],\n",
      "         ...,\n",
      "         [True, True, True,  ..., True, True, True],\n",
      "         [True, True, True,  ..., True, True, True],\n",
      "         [True, True, True,  ..., True, True, True]],\n",
      "\n",
      "        [[True, True, True,  ..., True, True, True],\n",
      "         [True, True, True,  ..., True, True, True],\n",
      "         [True, True, True,  ..., True, True, True],\n",
      "         ...,\n",
      "         [True, True, True,  ..., True, True, True],\n",
      "         [True, True, True,  ..., True, True, True],\n",
      "         [True, True, True,  ..., True, True, True]]])\n"
     ]
    }
   ],
   "source": [
    "print(batch[2] == values[2])\n"
   ]
  },
  {
   "cell_type": "code",
   "execution_count": 79,
   "metadata": {
    "execution": {
     "iopub.execute_input": "2024-12-07T04:40:50.566977Z",
     "iopub.status.busy": "2024-12-07T04:40:50.566647Z",
     "iopub.status.idle": "2024-12-07T04:40:50.576624Z",
     "shell.execute_reply": "2024-12-07T04:40:50.575935Z",
     "shell.execute_reply.started": "2024-12-07T04:40:50.566940Z"
    },
    "trusted": true
   },
   "outputs": [],
   "source": [
    "batch_x = batch[:, 0]\n",
    "batch_y = batch[:, 1]\n",
    "batch_vi = batch[:, -1:]"
   ]
  },
  {
   "cell_type": "code",
   "execution_count": 80,
   "metadata": {
    "execution": {
     "iopub.execute_input": "2024-12-07T04:40:50.577947Z",
     "iopub.status.busy": "2024-12-07T04:40:50.577635Z",
     "iopub.status.idle": "2024-12-07T04:40:50.585047Z",
     "shell.execute_reply": "2024-12-07T04:40:50.584285Z",
     "shell.execute_reply.started": "2024-12-07T04:40:50.577912Z"
    },
    "trusted": true
   },
   "outputs": [
    {
     "data": {
      "text/plain": [
       "torch.Size([1287, 30, 67])"
      ]
     },
     "execution_count": 80,
     "metadata": {},
     "output_type": "execute_result"
    }
   ],
   "source": [
    "batch_x.shape\n",
    "batch_y.shape"
   ]
  },
  {
   "cell_type": "code",
   "execution_count": 81,
   "metadata": {
    "execution": {
     "iopub.execute_input": "2024-12-07T04:40:50.586612Z",
     "iopub.status.busy": "2024-12-07T04:40:50.586237Z",
     "iopub.status.idle": "2024-12-07T04:40:50.600911Z",
     "shell.execute_reply": "2024-12-07T04:40:50.600034Z",
     "shell.execute_reply.started": "2024-12-07T04:40:50.586577Z"
    },
    "trusted": true
   },
   "outputs": [
    {
     "name": "stdout",
     "output_type": "stream",
     "text": [
      "tensor([[[ 0.0000,  0.0135,  0.0228,  ..., -0.5103, -0.5103, -0.5103],\n",
      "         [ 0.0000,  0.0152,  0.0254,  ..., -0.5121, -0.5121, -0.5121],\n",
      "         [ 0.0000,  0.0147,  0.0264,  ..., -0.5157, -0.5157, -0.5157],\n",
      "         ...,\n",
      "         [ 0.0000,  0.0156,  0.0267,  ..., -0.5211, -0.5211, -0.5211],\n",
      "         [ 0.0000,  0.0156,  0.0266,  ..., -0.0908, -0.0896, -0.0895],\n",
      "         [ 0.0000,  0.0157,  0.0265,  ..., -0.5207, -0.5207, -0.5207]],\n",
      "\n",
      "        [[ 0.0000,  0.0146,  0.0241,  ..., -0.4864, -0.4864, -0.4864],\n",
      "         [ 0.0000,  0.0160,  0.0251,  ..., -0.4849, -0.4849, -0.4849],\n",
      "         [ 0.0000,  0.0176,  0.0259,  ..., -0.4829, -0.4829, -0.4829],\n",
      "         ...,\n",
      "         [ 0.0000,  0.0155,  0.0274,  ..., -0.4225, -0.4225, -0.4225],\n",
      "         [ 0.0000,  0.0153,  0.0272,  ..., -0.0488, -0.0574, -0.0662],\n",
      "         [ 0.0000,  0.0150,  0.0268,  ..., -0.0371, -0.0452, -0.0524]],\n",
      "\n",
      "        [[ 0.0000,  0.0118,  0.0191,  ..., -0.5020, -0.5020, -0.5020],\n",
      "         [ 0.0000,  0.0118,  0.0191,  ..., -0.5020, -0.5020, -0.5020],\n",
      "         [ 0.0000,  0.0107,  0.0175,  ..., -0.5045, -0.5045, -0.5045],\n",
      "         ...,\n",
      "         [ 0.0000,  0.0110,  0.0203,  ..., -0.0711, -0.0731, -0.0714],\n",
      "         [ 0.0000,  0.0109,  0.0204,  ..., -0.4919, -0.4919, -0.4919],\n",
      "         [ 0.0000,  0.0111,  0.0206,  ..., -0.4925, -0.4925, -0.4925]],\n",
      "\n",
      "        ...,\n",
      "\n",
      "        [[ 0.0000,  0.0104,  0.0159,  ..., -0.5220, -0.5220, -0.5220],\n",
      "         [ 0.0000,  0.0098,  0.0161,  ..., -0.0426, -0.0373, -0.0336],\n",
      "         [ 0.0000,  0.0082,  0.0142,  ..., -0.0451, -0.0410, -0.0375],\n",
      "         ...,\n",
      "         [ 0.0000,  0.0109,  0.0168,  ..., -0.0651, -0.0652, -0.0655],\n",
      "         [ 0.0000,  0.0110,  0.0166,  ..., -0.5270, -0.5270, -0.5270],\n",
      "         [ 0.0000,  0.0108,  0.0165,  ..., -0.1647, -0.1753, -0.1837]],\n",
      "\n",
      "        [[ 0.0000,  0.0149,  0.0247,  ..., -0.0939, -0.0861, -0.0808],\n",
      "         [ 0.0000,  0.0131,  0.0230,  ..., -0.0830, -0.0734, -0.0656],\n",
      "         [ 0.0000,  0.0136,  0.0237,  ..., -0.0809, -0.0713, -0.0636],\n",
      "         ...,\n",
      "         [ 0.0000,  0.0196,  0.0287,  ..., -0.4797, -0.4797, -0.4797],\n",
      "         [ 0.0000,  0.0196,  0.0291,  ..., -0.4800, -0.4800, -0.4800],\n",
      "         [ 0.0000,  0.0197,  0.0290,  ..., -0.4799, -0.4799, -0.4799]],\n",
      "\n",
      "        [[ 0.0000,  0.0103,  0.0190,  ..., -0.5338, -0.5338, -0.5338],\n",
      "         [ 0.0000,  0.0103,  0.0181,  ..., -0.5351, -0.5351, -0.5351],\n",
      "         [ 0.0000,  0.0105,  0.0185,  ..., -0.0701, -0.0708, -0.0752],\n",
      "         ...,\n",
      "         [ 0.0000,  0.0120,  0.0221,  ..., -0.0673, -0.0646, -0.0624],\n",
      "         [ 0.0000,  0.0120,  0.0221,  ..., -0.0673, -0.0646, -0.0624],\n",
      "         [ 0.0000,  0.0121,  0.0227,  ..., -0.0749, -0.0732, -0.0711]]])\n",
      "tensor([[[ 0.0000, -0.0219, -0.0210,  ..., -0.3896, -0.3896, -0.3896],\n",
      "         [ 0.0000, -0.0232, -0.0224,  ..., -0.3823, -0.3823, -0.3823],\n",
      "         [ 0.0000, -0.0245, -0.0239,  ..., -0.3802, -0.3802, -0.3802],\n",
      "         ...,\n",
      "         [ 0.0000, -0.0250, -0.0249,  ..., -0.3862, -0.3862, -0.3862],\n",
      "         [ 0.0000, -0.0250, -0.0249,  ...,  0.3280,  0.3318,  0.3329],\n",
      "         [ 0.0000, -0.0250, -0.0250,  ..., -0.3860, -0.3860, -0.3860]],\n",
      "\n",
      "        [[ 0.0000, -0.0218, -0.0208,  ..., -0.4301, -0.4301, -0.4301],\n",
      "         [ 0.0000, -0.0232, -0.0225,  ..., -0.4340, -0.4340, -0.4340],\n",
      "         [ 0.0000, -0.0234, -0.0228,  ..., -0.4360, -0.4360, -0.4360],\n",
      "         ...,\n",
      "         [ 0.0000, -0.0263, -0.0279,  ..., -0.4477, -0.4477, -0.4477],\n",
      "         [ 0.0000, -0.0264, -0.0281,  ...,  0.2637,  0.2698,  0.2738],\n",
      "         [ 0.0000, -0.0268, -0.0287,  ...,  0.2635,  0.2701,  0.2760]],\n",
      "\n",
      "        [[ 0.0000, -0.0187, -0.0185,  ..., -0.4045, -0.4045, -0.4045],\n",
      "         [ 0.0000, -0.0187, -0.0185,  ..., -0.4045, -0.4045, -0.4045],\n",
      "         [ 0.0000, -0.0183, -0.0182,  ..., -0.4075, -0.4075, -0.4075],\n",
      "         ...,\n",
      "         [ 0.0000, -0.0190, -0.0190,  ...,  0.2393,  0.2406,  0.2414],\n",
      "         [ 0.0000, -0.0189, -0.0188,  ..., -0.4216, -0.4216, -0.4216],\n",
      "         [ 0.0000, -0.0191, -0.0188,  ..., -0.4191, -0.4191, -0.4191]],\n",
      "\n",
      "        ...,\n",
      "\n",
      "        [[ 0.0000, -0.0212, -0.0216,  ..., -0.4105, -0.4105, -0.4105],\n",
      "         [ 0.0000, -0.0165, -0.0161,  ...,  0.3789,  0.3840,  0.3883],\n",
      "         [ 0.0000, -0.0120, -0.0108,  ...,  0.3054,  0.3100,  0.3137],\n",
      "         ...,\n",
      "         [ 0.0000, -0.0155, -0.0157,  ...,  0.1067,  0.1064,  0.1075],\n",
      "         [ 0.0000, -0.0154, -0.0146,  ..., -0.4208, -0.4208, -0.4208],\n",
      "         [ 0.0000, -0.0160, -0.0152,  ...,  0.0868,  0.0909,  0.0938]],\n",
      "\n",
      "        [[ 0.0000, -0.0214, -0.0201,  ...,  0.3710,  0.3821,  0.3906],\n",
      "         [ 0.0000, -0.0218, -0.0212,  ...,  0.3643,  0.3732,  0.3809],\n",
      "         [ 0.0000, -0.0223, -0.0219,  ...,  0.3649,  0.3732,  0.3803],\n",
      "         ...,\n",
      "         [ 0.0000, -0.0247, -0.0241,  ..., -0.4561, -0.4561, -0.4561],\n",
      "         [ 0.0000, -0.0244, -0.0237,  ..., -0.4555, -0.4555, -0.4555],\n",
      "         [ 0.0000, -0.0222, -0.0211,  ..., -0.4507, -0.4507, -0.4507]],\n",
      "\n",
      "        [[ 0.0000, -0.0220, -0.0218,  ..., -0.4187, -0.4187, -0.4187],\n",
      "         [ 0.0000, -0.0219, -0.0218,  ..., -0.4184, -0.4184, -0.4184],\n",
      "         [ 0.0000, -0.0224, -0.0223,  ...,  0.3111,  0.3160,  0.3205],\n",
      "         ...,\n",
      "         [ 0.0000, -0.0203, -0.0196,  ...,  0.2036,  0.2027,  0.2026],\n",
      "         [ 0.0000, -0.0203, -0.0196,  ...,  0.2036,  0.2027,  0.2026],\n",
      "         [ 0.0000, -0.0199, -0.0192,  ...,  0.1825,  0.1811,  0.1803]]])\n"
     ]
    }
   ],
   "source": [
    "print(batch_x)\n",
    "print(batch_y)"
   ]
  },
  {
   "cell_type": "code",
   "execution_count": 82,
   "metadata": {
    "execution": {
     "iopub.execute_input": "2024-12-07T04:40:50.602671Z",
     "iopub.status.busy": "2024-12-07T04:40:50.602066Z",
     "iopub.status.idle": "2024-12-07T04:40:50.619176Z",
     "shell.execute_reply": "2024-12-07T04:40:50.618511Z",
     "shell.execute_reply.started": "2024-12-07T04:40:50.602634Z"
    },
    "trusted": true
   },
   "outputs": [],
   "source": [
    "batch_x_reshape = batch_x.reshape(dataset_len*30, 67)\n",
    "batch_y_reshape = batch_y.reshape(dataset_len*30, 67)"
   ]
  },
  {
   "cell_type": "code",
   "execution_count": 83,
   "metadata": {
    "execution": {
     "iopub.execute_input": "2024-12-07T04:40:50.620498Z",
     "iopub.status.busy": "2024-12-07T04:40:50.620204Z",
     "iopub.status.idle": "2024-12-07T04:40:50.624597Z",
     "shell.execute_reply": "2024-12-07T04:40:50.623739Z",
     "shell.execute_reply.started": "2024-12-07T04:40:50.620453Z"
    },
    "trusted": true
   },
   "outputs": [],
   "source": [
    "batch_x_reshape = batch_x_reshape.t()\n",
    "batch_y_reshape = batch_y_reshape.t()"
   ]
  },
  {
   "cell_type": "code",
   "execution_count": 84,
   "metadata": {
    "execution": {
     "iopub.execute_input": "2024-12-07T04:40:50.626393Z",
     "iopub.status.busy": "2024-12-07T04:40:50.625580Z",
     "iopub.status.idle": "2024-12-07T04:40:50.644317Z",
     "shell.execute_reply": "2024-12-07T04:40:50.643477Z",
     "shell.execute_reply.started": "2024-12-07T04:40:50.626361Z"
    },
    "trusted": true
   },
   "outputs": [
    {
     "name": "stdout",
     "output_type": "stream",
     "text": [
      "tensor([[ 0.0000,  0.0000,  0.0000,  ...,  0.0000,  0.0000,  0.0000],\n",
      "        [ 0.0135,  0.0152,  0.0147,  ...,  0.0120,  0.0120,  0.0121],\n",
      "        [ 0.0228,  0.0254,  0.0264,  ...,  0.0221,  0.0221,  0.0227],\n",
      "        ...,\n",
      "        [-0.5103, -0.5121, -0.5157,  ..., -0.0673, -0.0673, -0.0749],\n",
      "        [-0.5103, -0.5121, -0.5157,  ..., -0.0646, -0.0646, -0.0732],\n",
      "        [-0.5103, -0.5121, -0.5157,  ..., -0.0624, -0.0624, -0.0711]])\n",
      "tensor([[ 0.0000,  0.0000,  0.0000,  ...,  0.0000,  0.0000,  0.0000],\n",
      "        [-0.0219, -0.0232, -0.0245,  ..., -0.0203, -0.0203, -0.0199],\n",
      "        [-0.0210, -0.0224, -0.0239,  ..., -0.0196, -0.0196, -0.0192],\n",
      "        ...,\n",
      "        [-0.3896, -0.3823, -0.3802,  ...,  0.2036,  0.2036,  0.1825],\n",
      "        [-0.3896, -0.3823, -0.3802,  ...,  0.2027,  0.2027,  0.1811],\n",
      "        [-0.3896, -0.3823, -0.3802,  ...,  0.2026,  0.2026,  0.1803]])\n"
     ]
    }
   ],
   "source": [
    "print(batch_x_reshape)\n",
    "print(batch_y_reshape)"
   ]
  },
  {
   "cell_type": "code",
   "execution_count": 85,
   "metadata": {
    "execution": {
     "iopub.execute_input": "2024-12-07T04:40:50.645888Z",
     "iopub.status.busy": "2024-12-07T04:40:50.645587Z",
     "iopub.status.idle": "2024-12-07T04:40:50.653214Z",
     "shell.execute_reply": "2024-12-07T04:40:50.652391Z",
     "shell.execute_reply.started": "2024-12-07T04:40:50.645860Z"
    },
    "trusted": true
   },
   "outputs": [
    {
     "data": {
      "text/plain": [
       "torch.Size([67, 38610])"
      ]
     },
     "execution_count": 85,
     "metadata": {},
     "output_type": "execute_result"
    }
   ],
   "source": [
    "batch_x_reshape.shape\n",
    "batch_y_reshape.shape"
   ]
  },
  {
   "cell_type": "code",
   "execution_count": 86,
   "metadata": {
    "execution": {
     "iopub.execute_input": "2024-12-07T04:40:50.654337Z",
     "iopub.status.busy": "2024-12-07T04:40:50.654114Z",
     "iopub.status.idle": "2024-12-07T04:40:50.663687Z",
     "shell.execute_reply": "2024-12-07T04:40:50.662890Z",
     "shell.execute_reply.started": "2024-12-07T04:40:50.654314Z"
    },
    "trusted": true
   },
   "outputs": [
    {
     "data": {
      "text/plain": [
       "torch.Size([67, 38610])"
      ]
     },
     "execution_count": 86,
     "metadata": {},
     "output_type": "execute_result"
    }
   ],
   "source": [
    "batch_x_reshape.shape"
   ]
  },
  {
   "cell_type": "code",
   "execution_count": 87,
   "metadata": {
    "execution": {
     "iopub.execute_input": "2024-12-07T04:40:50.664857Z",
     "iopub.status.busy": "2024-12-07T04:40:50.664596Z",
     "iopub.status.idle": "2024-12-07T04:40:50.676000Z",
     "shell.execute_reply": "2024-12-07T04:40:50.675301Z",
     "shell.execute_reply.started": "2024-12-07T04:40:50.664829Z"
    },
    "trusted": true
   },
   "outputs": [],
   "source": [
    "import numpy as np\n",
    "from sklearn.preprocessing import StandardScaler"
   ]
  },
  {
   "cell_type": "code",
   "execution_count": 88,
   "metadata": {
    "execution": {
     "iopub.execute_input": "2024-12-07T04:40:50.677203Z",
     "iopub.status.busy": "2024-12-07T04:40:50.676948Z",
     "iopub.status.idle": "2024-12-07T04:40:50.764569Z",
     "shell.execute_reply": "2024-12-07T04:40:50.763765Z",
     "shell.execute_reply.started": "2024-12-07T04:40:50.677176Z"
    },
    "trusted": true
   },
   "outputs": [],
   "source": [
    "# Tạo đối tượng StandardScaler\n",
    "scaler = StandardScaler()\n",
    "\n",
    "x_scaled_data = scaler.fit_transform(batch_x_reshape.numpy())\n",
    "y_scaled_data = scaler.fit_transform(batch_y_reshape.numpy())\n"
   ]
  },
  {
   "cell_type": "code",
   "execution_count": 89,
   "metadata": {
    "execution": {
     "iopub.execute_input": "2024-12-07T04:40:50.765985Z",
     "iopub.status.busy": "2024-12-07T04:40:50.765642Z",
     "iopub.status.idle": "2024-12-07T04:40:50.773956Z",
     "shell.execute_reply": "2024-12-07T04:40:50.773187Z",
     "shell.execute_reply.started": "2024-12-07T04:40:50.765949Z"
    },
    "trusted": true
   },
   "outputs": [
    {
     "data": {
      "text/plain": [
       "['scaler.pkl']"
      ]
     },
     "execution_count": 89,
     "metadata": {},
     "output_type": "execute_result"
    }
   ],
   "source": [
    "import joblib\n",
    "# Lưu scaler vào file\n",
    "joblib.dump(scaler, \"scaler.pkl\")"
   ]
  },
  {
   "cell_type": "code",
   "execution_count": 90,
   "metadata": {
    "execution": {
     "iopub.execute_input": "2024-12-07T04:40:50.781095Z",
     "iopub.status.busy": "2024-12-07T04:40:50.780726Z",
     "iopub.status.idle": "2024-12-07T04:40:50.785534Z",
     "shell.execute_reply": "2024-12-07T04:40:50.784716Z",
     "shell.execute_reply.started": "2024-12-07T04:40:50.781065Z"
    },
    "trusted": true
   },
   "outputs": [],
   "source": [
    "batch_x = torch.from_numpy(x_scaled_data).t()\n",
    "batch_y = torch.from_numpy(y_scaled_data).t()"
   ]
  },
  {
   "cell_type": "code",
   "execution_count": 91,
   "metadata": {
    "execution": {
     "iopub.execute_input": "2024-12-07T04:40:50.786790Z",
     "iopub.status.busy": "2024-12-07T04:40:50.786441Z",
     "iopub.status.idle": "2024-12-07T04:40:50.796025Z",
     "shell.execute_reply": "2024-12-07T04:40:50.795281Z",
     "shell.execute_reply.started": "2024-12-07T04:40:50.786765Z"
    },
    "trusted": true
   },
   "outputs": [],
   "source": [
    "batch_x = batch_x.reshape(-1, 30, 67)\n",
    "batch_y = batch_y.reshape(-1, 30, 67)"
   ]
  },
  {
   "cell_type": "code",
   "execution_count": 92,
   "metadata": {
    "execution": {
     "iopub.execute_input": "2024-12-07T04:40:50.797179Z",
     "iopub.status.busy": "2024-12-07T04:40:50.796902Z",
     "iopub.status.idle": "2024-12-07T04:40:50.814114Z",
     "shell.execute_reply": "2024-12-07T04:40:50.813417Z",
     "shell.execute_reply.started": "2024-12-07T04:40:50.797155Z"
    },
    "trusted": true
   },
   "outputs": [],
   "source": [
    "batch_xy = torch.stack([batch_x, batch_y], 1)"
   ]
  },
  {
   "cell_type": "code",
   "execution_count": 93,
   "metadata": {
    "execution": {
     "iopub.execute_input": "2024-12-07T04:40:50.815343Z",
     "iopub.status.busy": "2024-12-07T04:40:50.815034Z",
     "iopub.status.idle": "2024-12-07T04:40:50.820795Z",
     "shell.execute_reply": "2024-12-07T04:40:50.819947Z",
     "shell.execute_reply.started": "2024-12-07T04:40:50.815308Z"
    },
    "trusted": true
   },
   "outputs": [
    {
     "data": {
      "text/plain": [
       "torch.Size([1287, 2, 30, 67])"
      ]
     },
     "execution_count": 93,
     "metadata": {},
     "output_type": "execute_result"
    }
   ],
   "source": [
    "batch_xy.shape"
   ]
  },
  {
   "cell_type": "code",
   "execution_count": 94,
   "metadata": {
    "execution": {
     "iopub.execute_input": "2024-12-07T04:40:50.822307Z",
     "iopub.status.busy": "2024-12-07T04:40:50.821939Z",
     "iopub.status.idle": "2024-12-07T04:40:51.969401Z",
     "shell.execute_reply": "2024-12-07T04:40:51.968477Z",
     "shell.execute_reply.started": "2024-12-07T04:40:50.822271Z"
    },
    "trusted": true
   },
   "outputs": [
    {
     "data": {
      "text/plain": [
       "tensor([[[[ 0.0000,  0.0514,  0.0867,  ..., -1.9382, -1.9382, -1.9382],\n",
       "          [ 0.0000,  0.0570,  0.0955,  ..., -1.9254, -1.9254, -1.9254],\n",
       "          [ 0.0000,  0.0546,  0.0980,  ..., -1.9164, -1.9164, -1.9164],\n",
       "          ...,\n",
       "          [ 0.0000,  0.0624,  0.1065,  ..., -2.0799, -2.0799, -2.0799],\n",
       "          [ 0.0000,  0.2391,  0.4058,  ..., -1.3877, -1.3689, -1.3676],\n",
       "          [ 0.0000,  0.0626,  0.1060,  ..., -2.0802, -2.0802, -2.0802]],\n",
       "\n",
       "         [[ 0.0000, -0.0495, -0.0475,  ..., -0.8815, -0.8815, -0.8815],\n",
       "          [ 0.0000, -0.0519, -0.0502,  ..., -0.8556, -0.8556, -0.8556],\n",
       "          [ 0.0000, -0.0532, -0.0518,  ..., -0.8257, -0.8257, -0.8257],\n",
       "          ...,\n",
       "          [ 0.0000, -0.0797, -0.0793,  ..., -1.2310, -1.2310, -1.2310],\n",
       "          [ 0.0000, -0.1932, -0.1923,  ...,  2.5338,  2.5636,  2.5723],\n",
       "          [ 0.0000, -0.0795, -0.0793,  ..., -1.2261, -1.2261, -1.2261]]],\n",
       "\n",
       "\n",
       "        [[[ 0.0000,  0.0633,  0.1043,  ..., -2.1021, -2.1021, -2.1021],\n",
       "          [ 0.0000,  0.0690,  0.1083,  ..., -2.0943, -2.0943, -2.0943],\n",
       "          [ 0.0000,  0.0762,  0.1118,  ..., -2.0861, -2.0861, -2.0861],\n",
       "          ...,\n",
       "          [ 0.0000,  0.0709,  0.1254,  ..., -1.9361, -1.9361, -1.9361],\n",
       "          [ 0.0000,  0.2119,  0.3752,  ..., -0.6746, -0.7931, -0.9147],\n",
       "          [ 0.0000,  0.2185,  0.3901,  ..., -0.5407, -0.6584, -0.7644]],\n",
       "\n",
       "         [[ 0.0000, -0.0646, -0.0616,  ..., -1.2712, -1.2712, -1.2712],\n",
       "          [ 0.0000, -0.0685, -0.0666,  ..., -1.2843, -1.2843, -1.2843],\n",
       "          [ 0.0000, -0.0692, -0.0677,  ..., -1.2915, -1.2915, -1.2915],\n",
       "          ...,\n",
       "          [ 0.0000, -0.0884, -0.0938,  ..., -1.5060, -1.5060, -1.5060],\n",
       "          [ 0.0000, -0.2597, -0.2765,  ...,  2.5981,  2.6580,  2.6978],\n",
       "          [ 0.0000, -0.2663, -0.2848,  ...,  2.6170,  2.6833,  2.7415]]],\n",
       "\n",
       "\n",
       "        [[[ 0.0000,  0.0462,  0.0751,  ..., -1.9714, -1.9714, -1.9714],\n",
       "          [ 0.0000,  0.0462,  0.0751,  ..., -1.9714, -1.9714, -1.9714],\n",
       "          [ 0.0000,  0.0418,  0.0684,  ..., -1.9768, -1.9768, -1.9768],\n",
       "          ...,\n",
       "          [ 0.0000,  0.2395,  0.4428,  ..., -1.5483, -1.5924, -1.5559],\n",
       "          [ 0.0000,  0.0463,  0.0861,  ..., -2.0809, -2.0809, -2.0809],\n",
       "          [ 0.0000,  0.0470,  0.0872,  ..., -2.0822, -2.0822, -2.0822]],\n",
       "\n",
       "         [[ 0.0000, -0.0427, -0.0423,  ..., -0.9223, -0.9223, -0.9223],\n",
       "          [ 0.0000, -0.0427, -0.0423,  ..., -0.9223, -0.9223, -0.9223],\n",
       "          [ 0.0000, -0.0421, -0.0420,  ..., -0.9392, -0.9392, -0.9392],\n",
       "          ...,\n",
       "          [ 0.0000, -0.1937, -0.1942,  ...,  2.4411,  2.4543,  2.4629],\n",
       "          [ 0.0000, -0.0640, -0.0639,  ..., -1.4297, -1.4297, -1.4297],\n",
       "          [ 0.0000, -0.0646, -0.0636,  ..., -1.4214, -1.4214, -1.4214]]],\n",
       "\n",
       "\n",
       "        ...,\n",
       "\n",
       "\n",
       "        [[[ 0.0000,  0.0401,  0.0612,  ..., -2.0043, -2.0043, -2.0043],\n",
       "          [ 0.0000,  0.0485,  0.0797,  ..., -0.2102, -0.1843, -0.1657],\n",
       "          [ 0.0000,  0.0394,  0.0687,  ..., -0.2177, -0.1983, -0.1812],\n",
       "          ...,\n",
       "          [ 0.0000,  0.0535,  0.0824,  ..., -0.3192, -0.3199, -0.3211],\n",
       "          [ 0.0000,  0.0416,  0.0629,  ..., -1.9956, -1.9956, -1.9956],\n",
       "          [ 0.0000,  0.0908,  0.1391,  ..., -1.3874, -1.4767, -1.5478]],\n",
       "\n",
       "         [[ 0.0000, -0.0503, -0.0511,  ..., -0.9724, -0.9724, -0.9724],\n",
       "          [ 0.0000, -0.0465, -0.0453,  ...,  1.0653,  1.0794,  1.0916],\n",
       "          [ 0.0000, -0.0351, -0.0315,  ...,  0.8935,  0.9070,  0.9178],\n",
       "          ...,\n",
       "          [ 0.0000, -0.0518, -0.0523,  ...,  0.3565,  0.3555,  0.3591],\n",
       "          [ 0.0000, -0.0433, -0.0411,  ..., -1.1824, -1.1824, -1.1824],\n",
       "          [ 0.0000, -0.2723, -0.2587,  ...,  1.4806,  1.5497,  1.5999]]],\n",
       "\n",
       "\n",
       "        [[[ 0.0000,  0.2414,  0.3999,  ..., -1.5225, -1.3974, -1.3112],\n",
       "          [ 0.0000,  0.2271,  0.3988,  ..., -1.4404, -1.2725, -1.1378],\n",
       "          [ 0.0000,  0.2391,  0.4152,  ..., -1.4184, -1.2496, -1.1152],\n",
       "          ...,\n",
       "          [ 0.0000,  0.0610,  0.0894,  ..., -1.4934, -1.4934, -1.4934],\n",
       "          [ 0.0000,  0.0772,  0.1145,  ..., -1.8880, -1.8880, -1.8880],\n",
       "          [ 0.0000,  0.0793,  0.1170,  ..., -1.9342, -1.9342, -1.9342]],\n",
       "\n",
       "         [[ 0.0000, -0.1528, -0.1438,  ...,  2.6485,  2.7279,  2.7885],\n",
       "          [ 0.0000, -0.1580, -0.1535,  ...,  2.6367,  2.7010,  2.7568],\n",
       "          [ 0.0000, -0.1622, -0.1594,  ...,  2.6511,  2.7116,  2.7631],\n",
       "          ...,\n",
       "          [ 0.0000, -0.0824, -0.0805,  ..., -1.5207, -1.5207, -1.5207],\n",
       "          [ 0.0000, -0.0548, -0.0532,  ..., -1.0242, -1.0242, -1.0242],\n",
       "          [ 0.0000, -0.0508, -0.0483,  ..., -1.0302, -1.0302, -1.0302]]],\n",
       "\n",
       "\n",
       "        [[[ 0.0000,  0.0384,  0.0709,  ..., -1.9863, -1.9863, -1.9863],\n",
       "          [ 0.0000,  0.0383,  0.0675,  ..., -1.9943, -1.9943, -1.9943],\n",
       "          [ 0.0000,  0.1951,  0.3418,  ..., -1.2962, -1.3091, -1.3910],\n",
       "          ...,\n",
       "          [ 0.0000,  0.2219,  0.4112,  ..., -1.2506, -1.1987, -1.1584],\n",
       "          [ 0.0000,  0.2219,  0.4112,  ..., -1.2506, -1.1987, -1.1584],\n",
       "          [ 0.0000,  0.2326,  0.4364,  ..., -1.4401, -1.4071, -1.3664]],\n",
       "\n",
       "         [[ 0.0000, -0.0511, -0.0507,  ..., -0.9714, -0.9714, -0.9714],\n",
       "          [ 0.0000, -0.0509, -0.0508,  ..., -0.9747, -0.9747, -0.9747],\n",
       "          [ 0.0000, -0.1762, -0.1760,  ...,  2.4510,  2.4897,  2.5251],\n",
       "          ...,\n",
       "          [ 0.0000, -0.2179, -0.2098,  ...,  2.1838,  2.1733,  2.1727],\n",
       "          [ 0.0000, -0.2179, -0.2098,  ...,  2.1838,  2.1733,  2.1727],\n",
       "          [ 0.0000, -0.2218, -0.2137,  ...,  2.0316,  2.0157,  2.0070]]]])"
      ]
     },
     "execution_count": 94,
     "metadata": {},
     "output_type": "execute_result"
    }
   ],
   "source": [
    "for batch, i in enumerate(batch_xy):\n",
    "    for coord, j in enumerate(i):\n",
    "        for frame, k in enumerate(j):\n",
    "            k = k - k[0]\n",
    "            batch_xy[batch][coord][frame] = k\n",
    "\n",
    "batch_xy"
   ]
  },
  {
   "cell_type": "code",
   "execution_count": 95,
   "metadata": {
    "execution": {
     "iopub.execute_input": "2024-12-07T04:40:51.970911Z",
     "iopub.status.busy": "2024-12-07T04:40:51.970626Z",
     "iopub.status.idle": "2024-12-07T04:40:51.975901Z",
     "shell.execute_reply": "2024-12-07T04:40:51.975000Z",
     "shell.execute_reply.started": "2024-12-07T04:40:51.970880Z"
    },
    "trusted": true
   },
   "outputs": [
    {
     "data": {
      "text/plain": [
       "torch.Size([1287, 2, 30, 67])"
      ]
     },
     "execution_count": 95,
     "metadata": {},
     "output_type": "execute_result"
    }
   ],
   "source": [
    "batch_xy.shape"
   ]
  },
  {
   "cell_type": "code",
   "execution_count": 96,
   "metadata": {
    "execution": {
     "iopub.execute_input": "2024-12-07T04:40:51.977055Z",
     "iopub.status.busy": "2024-12-07T04:40:51.976812Z",
     "iopub.status.idle": "2024-12-07T04:40:51.987623Z",
     "shell.execute_reply": "2024-12-07T04:40:51.986758Z",
     "shell.execute_reply.started": "2024-12-07T04:40:51.977032Z"
    },
    "trusted": true
   },
   "outputs": [
    {
     "data": {
      "text/plain": [
       "tensor([[[ 0.0000,  0.0514,  0.0867,  ..., -1.9382, -1.9382, -1.9382],\n",
       "         [ 0.0000,  0.0570,  0.0955,  ..., -1.9254, -1.9254, -1.9254],\n",
       "         [ 0.0000,  0.0546,  0.0980,  ..., -1.9164, -1.9164, -1.9164],\n",
       "         ...,\n",
       "         [ 0.0000,  0.0624,  0.1065,  ..., -2.0799, -2.0799, -2.0799],\n",
       "         [ 0.0000,  0.2391,  0.4058,  ..., -1.3877, -1.3689, -1.3676],\n",
       "         [ 0.0000,  0.0626,  0.1060,  ..., -2.0802, -2.0802, -2.0802]],\n",
       "\n",
       "        [[ 0.0000, -0.0495, -0.0475,  ..., -0.8815, -0.8815, -0.8815],\n",
       "         [ 0.0000, -0.0519, -0.0502,  ..., -0.8556, -0.8556, -0.8556],\n",
       "         [ 0.0000, -0.0532, -0.0518,  ..., -0.8257, -0.8257, -0.8257],\n",
       "         ...,\n",
       "         [ 0.0000, -0.0797, -0.0793,  ..., -1.2310, -1.2310, -1.2310],\n",
       "         [ 0.0000, -0.1932, -0.1923,  ...,  2.5338,  2.5636,  2.5723],\n",
       "         [ 0.0000, -0.0795, -0.0793,  ..., -1.2261, -1.2261, -1.2261]]])"
      ]
     },
     "execution_count": 96,
     "metadata": {},
     "output_type": "execute_result"
    }
   ],
   "source": [
    "batch_xy[0]"
   ]
  },
  {
   "cell_type": "code",
   "execution_count": 97,
   "metadata": {
    "execution": {
     "iopub.execute_input": "2024-12-07T04:40:51.988743Z",
     "iopub.status.busy": "2024-12-07T04:40:51.988488Z",
     "iopub.status.idle": "2024-12-07T04:40:51.996435Z",
     "shell.execute_reply": "2024-12-07T04:40:51.995650Z",
     "shell.execute_reply.started": "2024-12-07T04:40:51.988719Z"
    },
    "trusted": true
   },
   "outputs": [
    {
     "data": {
      "text/plain": [
       "torch.Size([1287, 1, 30, 67])"
      ]
     },
     "execution_count": 97,
     "metadata": {},
     "output_type": "execute_result"
    }
   ],
   "source": [
    "batch_vi.shape"
   ]
  },
  {
   "cell_type": "code",
   "execution_count": 98,
   "metadata": {
    "execution": {
     "iopub.execute_input": "2024-12-07T04:40:51.997797Z",
     "iopub.status.busy": "2024-12-07T04:40:51.997445Z",
     "iopub.status.idle": "2024-12-07T04:40:52.006687Z",
     "shell.execute_reply": "2024-12-07T04:40:52.005918Z",
     "shell.execute_reply.started": "2024-12-07T04:40:51.997762Z"
    },
    "trusted": true
   },
   "outputs": [
    {
     "data": {
      "text/plain": [
       "torch.Size([1287, 2, 30, 67])"
      ]
     },
     "execution_count": 98,
     "metadata": {},
     "output_type": "execute_result"
    }
   ],
   "source": [
    "batch_xy.shape"
   ]
  },
  {
   "cell_type": "code",
   "execution_count": 99,
   "metadata": {
    "execution": {
     "iopub.execute_input": "2024-12-07T04:40:52.008447Z",
     "iopub.status.busy": "2024-12-07T04:40:52.007645Z",
     "iopub.status.idle": "2024-12-07T04:40:52.029135Z",
     "shell.execute_reply": "2024-12-07T04:40:52.028299Z",
     "shell.execute_reply.started": "2024-12-07T04:40:52.008410Z"
    },
    "trusted": true
   },
   "outputs": [],
   "source": [
    "batch = torch.cat((batch_xy, batch_vi), dim=1)"
   ]
  },
  {
   "cell_type": "code",
   "execution_count": 100,
   "metadata": {
    "execution": {
     "iopub.execute_input": "2024-12-07T04:40:52.030825Z",
     "iopub.status.busy": "2024-12-07T04:40:52.030206Z",
     "iopub.status.idle": "2024-12-07T04:40:52.110671Z",
     "shell.execute_reply": "2024-12-07T04:40:52.109824Z",
     "shell.execute_reply.started": "2024-12-07T04:40:52.030790Z"
    },
    "trusted": true
   },
   "outputs": [],
   "source": [
    "torch.save(batch, 'tensor.pt')"
   ]
  },
  {
   "cell_type": "code",
   "execution_count": 101,
   "metadata": {
    "execution": {
     "iopub.execute_input": "2024-12-07T04:40:52.111989Z",
     "iopub.status.busy": "2024-12-07T04:40:52.111718Z",
     "iopub.status.idle": "2024-12-07T04:40:52.117443Z",
     "shell.execute_reply": "2024-12-07T04:40:52.116610Z",
     "shell.execute_reply.started": "2024-12-07T04:40:52.111963Z"
    },
    "trusted": true
   },
   "outputs": [
    {
     "data": {
      "text/plain": [
       "torch.Size([1287, 3, 30, 67])"
      ]
     },
     "execution_count": 101,
     "metadata": {},
     "output_type": "execute_result"
    }
   ],
   "source": [
    "batch.shape"
   ]
  },
  {
   "cell_type": "code",
   "execution_count": 102,
   "metadata": {
    "execution": {
     "iopub.execute_input": "2024-12-07T04:40:52.119195Z",
     "iopub.status.busy": "2024-12-07T04:40:52.118886Z",
     "iopub.status.idle": "2024-12-07T04:40:52.128834Z",
     "shell.execute_reply": "2024-12-07T04:40:52.128043Z",
     "shell.execute_reply.started": "2024-12-07T04:40:52.119161Z"
    },
    "trusted": true
   },
   "outputs": [
    {
     "name": "stdout",
     "output_type": "stream",
     "text": [
      "torch.Size([1, 3, 30, 67])\n",
      "tensor([[[[ 0.0000,  0.0514,  0.0867,  ..., -1.9382, -1.9382, -1.9382],\n",
      "          [ 0.0000,  0.0570,  0.0955,  ..., -1.9254, -1.9254, -1.9254],\n",
      "          [ 0.0000,  0.0546,  0.0980,  ..., -1.9164, -1.9164, -1.9164],\n",
      "          ...,\n",
      "          [ 0.0000,  0.0624,  0.1065,  ..., -2.0799, -2.0799, -2.0799],\n",
      "          [ 0.0000,  0.2391,  0.4058,  ..., -1.3877, -1.3689, -1.3676],\n",
      "          [ 0.0000,  0.0626,  0.1060,  ..., -2.0802, -2.0802, -2.0802]],\n",
      "\n",
      "         [[ 0.0000, -0.0495, -0.0475,  ..., -0.8815, -0.8815, -0.8815],\n",
      "          [ 0.0000, -0.0519, -0.0502,  ..., -0.8556, -0.8556, -0.8556],\n",
      "          [ 0.0000, -0.0532, -0.0518,  ..., -0.8257, -0.8257, -0.8257],\n",
      "          ...,\n",
      "          [ 0.0000, -0.0797, -0.0793,  ..., -1.2310, -1.2310, -1.2310],\n",
      "          [ 0.0000, -0.1932, -0.1923,  ...,  2.5338,  2.5636,  2.5723],\n",
      "          [ 0.0000, -0.0795, -0.0793,  ..., -1.2261, -1.2261, -1.2261]],\n",
      "\n",
      "         [[ 0.9985,  0.9964,  0.9963,  ...,  0.0000,  0.0000,  0.0000],\n",
      "          [ 0.9986,  0.9967,  0.9966,  ...,  0.0000,  0.0000,  0.0000],\n",
      "          [ 0.9987,  0.9970,  0.9967,  ...,  0.0000,  0.0000,  0.0000],\n",
      "          ...,\n",
      "          [ 0.9998,  0.9991,  0.9993,  ...,  0.0000,  0.0000,  0.0000],\n",
      "          [ 0.9998,  0.9991,  0.9993,  ...,  0.0000,  0.0000,  0.0000],\n",
      "          [ 0.9998,  0.9991,  0.9994,  ...,  0.0000,  0.0000,  0.0000]]]])\n"
     ]
    }
   ],
   "source": [
    "sample = batch[0].unsqueeze(0)\n",
    "print(sample.shape)\n",
    "print(sample)"
   ]
  },
  {
   "cell_type": "code",
   "execution_count": 103,
   "metadata": {
    "execution": {
     "iopub.execute_input": "2024-12-07T04:40:52.129996Z",
     "iopub.status.busy": "2024-12-07T04:40:52.129746Z",
     "iopub.status.idle": "2024-12-07T04:40:52.138793Z",
     "shell.execute_reply": "2024-12-07T04:40:52.138090Z",
     "shell.execute_reply.started": "2024-12-07T04:40:52.129972Z"
    },
    "trusted": true
   },
   "outputs": [],
   "source": [
    "import torch.optim as optim\n",
    "from torch.utils.data import DataLoader, TensorDataset"
   ]
  },
  {
   "cell_type": "code",
   "execution_count": 104,
   "metadata": {
    "execution": {
     "iopub.execute_input": "2024-12-07T04:40:52.140302Z",
     "iopub.status.busy": "2024-12-07T04:40:52.139800Z",
     "iopub.status.idle": "2024-12-07T04:40:52.149241Z",
     "shell.execute_reply": "2024-12-07T04:40:52.148515Z",
     "shell.execute_reply.started": "2024-12-07T04:40:52.140266Z"
    },
    "trusted": true
   },
   "outputs": [],
   "source": [
    "import torch.nn.functional as F\n",
    "\n",
    "# Danh sách cần one-hot encode\n",
    "lst = lable_decode\n",
    "\n",
    "# Tạo từ điển ánh xạ chuỗi sang số nguyên\n",
    "unique_labels = list(set(lst))  # Lấy các giá trị duy nhất\n",
    "num_class = len(unique_labels)\n",
    "label_to_index = {label: index for index, label in enumerate(unique_labels)}\n",
    "\n",
    "# Chuyển đổi danh sách chuỗi thành danh sách chỉ số\n",
    "indices = [label_to_index[label] for label in lst]\n",
    "\n",
    "# Chuyển danh sách chỉ số thành tensor\n",
    "tensor_indices = torch.tensor(indices)\n"
   ]
  },
  {
   "cell_type": "code",
   "execution_count": 105,
   "metadata": {
    "execution": {
     "iopub.execute_input": "2024-12-07T04:40:52.150562Z",
     "iopub.status.busy": "2024-12-07T04:40:52.150174Z",
     "iopub.status.idle": "2024-12-07T04:40:52.161550Z",
     "shell.execute_reply": "2024-12-07T04:40:52.160814Z",
     "shell.execute_reply.started": "2024-12-07T04:40:52.150524Z"
    },
    "trusted": true
   },
   "outputs": [
    {
     "data": {
      "text/plain": [
       "57"
      ]
     },
     "execution_count": 105,
     "metadata": {},
     "output_type": "execute_result"
    }
   ],
   "source": [
    "num_class"
   ]
  },
  {
   "cell_type": "code",
   "execution_count": 106,
   "metadata": {
    "execution": {
     "iopub.execute_input": "2024-12-07T04:40:52.162609Z",
     "iopub.status.busy": "2024-12-07T04:40:52.162344Z",
     "iopub.status.idle": "2024-12-07T04:40:52.173971Z",
     "shell.execute_reply": "2024-12-07T04:40:52.173147Z",
     "shell.execute_reply.started": "2024-12-07T04:40:52.162571Z"
    },
    "trusted": true
   },
   "outputs": [
    {
     "data": {
      "text/plain": [
       "1287"
      ]
     },
     "execution_count": 106,
     "metadata": {},
     "output_type": "execute_result"
    }
   ],
   "source": [
    "len(tensor_indices)"
   ]
  },
  {
   "cell_type": "code",
   "execution_count": 107,
   "metadata": {
    "execution": {
     "iopub.execute_input": "2024-12-07T04:40:52.175477Z",
     "iopub.status.busy": "2024-12-07T04:40:52.175116Z",
     "iopub.status.idle": "2024-12-07T04:40:52.185209Z",
     "shell.execute_reply": "2024-12-07T04:40:52.184394Z",
     "shell.execute_reply.started": "2024-12-07T04:40:52.175437Z"
    },
    "trusted": true
   },
   "outputs": [],
   "source": [
    "# Kết nối khớp cơ thể (Pose Estimation)\n",
    "body_connections = [\n",
    "    (1,4),  \n",
    "    (0,2),  \n",
    "    (1,3), \n",
    "    (2,7),\n",
    "    (0,5), \n",
    "    (6,4),\n",
    "    (8,5), \n",
    "    (3), \n",
    "    (6),\n",
    "    (10),\n",
    "    (9),\n",
    "    (12,13),\n",
    "    (11,14),\n",
    "    (11,15),\n",
    "    (12,16),\n",
    "    (13,17,21),\n",
    "    (14,18,22),\n",
    "    (15,19),\n",
    "    (16,20),\n",
    "    (15,17),\n",
    "    (16,18),\n",
    "    (15,19),\n",
    "    (16),\n",
    "    (24,11),\n",
    "    (12,23),\n",
    "    (26),  \n",
    "    (25, 27),  \n",
    "    (26, 28),  \n",
    "    (27, 29),  \n",
    "    (28),  \n",
    "    (25, 31, 34),  \n",
    "    (30, 32),  \n",
    "    (31, 33),  \n",
    "    (32),  \n",
    "    (30, 38), \n",
    "    (34, 36),\n",
    "    (35, 37),\n",
    "    (36), \n",
    "    (34, 42, 39),\n",
    "    (38, 40),\n",
    "    (39, 41),\n",
    "    (40),\n",
    "    (38, 43),\n",
    "    (42, 44),\n",
    "    (43, 45),\n",
    "    (44),\n",
    "    (47),  \n",
    "    (46, 48),  \n",
    "    (47, 49),  \n",
    "    (48, 50),  \n",
    "    (49),  \n",
    "    (46, 52, 55),  \n",
    "    (51, 53),  \n",
    "    (52, 54),  \n",
    "    (53),  \n",
    "    (51, 59), \n",
    "    (55, 57),\n",
    "    (56, 58),\n",
    "    (57), \n",
    "    (55, 63, 60),\n",
    "    (59, 61),\n",
    "    (60, 62),\n",
    "    (61),\n",
    "    (59, 64),\n",
    "    (63, 65),\n",
    "    (64, 66),\n",
    "    (65)\n",
    "]\n",
    "\n",
    "\n",
    "\n"
   ]
  },
  {
   "cell_type": "code",
   "execution_count": 108,
   "metadata": {
    "execution": {
     "iopub.execute_input": "2024-12-07T04:40:52.186726Z",
     "iopub.status.busy": "2024-12-07T04:40:52.186221Z",
     "iopub.status.idle": "2024-12-07T04:40:52.200309Z",
     "shell.execute_reply": "2024-12-07T04:40:52.199536Z",
     "shell.execute_reply.started": "2024-12-07T04:40:52.186689Z"
    },
    "trusted": true
   },
   "outputs": [
    {
     "data": {
      "text/plain": [
       "67"
      ]
     },
     "execution_count": 108,
     "metadata": {},
     "output_type": "execute_result"
    }
   ],
   "source": [
    "len(body_connections)"
   ]
  },
  {
   "cell_type": "code",
   "execution_count": 109,
   "metadata": {
    "execution": {
     "iopub.execute_input": "2024-12-07T04:40:52.201576Z",
     "iopub.status.busy": "2024-12-07T04:40:52.201232Z",
     "iopub.status.idle": "2024-12-07T04:40:52.214056Z",
     "shell.execute_reply": "2024-12-07T04:40:52.213201Z",
     "shell.execute_reply.started": "2024-12-07T04:40:52.201539Z"
    },
    "trusted": true
   },
   "outputs": [
    {
     "name": "stdout",
     "output_type": "stream",
     "text": [
      "torch.Size([1, 3, 30, 67])\n"
     ]
    },
    {
     "data": {
      "text/plain": [
       "tensor([[[[ 0.0000,  0.0514,  0.0867,  ..., -1.9382, -1.9382, -1.9382],\n",
       "          [ 0.0000,  0.0570,  0.0955,  ..., -1.9254, -1.9254, -1.9254],\n",
       "          [ 0.0000,  0.0546,  0.0980,  ..., -1.9164, -1.9164, -1.9164],\n",
       "          ...,\n",
       "          [ 0.0000,  0.0624,  0.1065,  ..., -2.0799, -2.0799, -2.0799],\n",
       "          [ 0.0000,  0.2391,  0.4058,  ..., -1.3877, -1.3689, -1.3676],\n",
       "          [ 0.0000,  0.0626,  0.1060,  ..., -2.0802, -2.0802, -2.0802]],\n",
       "\n",
       "         [[ 0.0000, -0.0495, -0.0475,  ..., -0.8815, -0.8815, -0.8815],\n",
       "          [ 0.0000, -0.0519, -0.0502,  ..., -0.8556, -0.8556, -0.8556],\n",
       "          [ 0.0000, -0.0532, -0.0518,  ..., -0.8257, -0.8257, -0.8257],\n",
       "          ...,\n",
       "          [ 0.0000, -0.0797, -0.0793,  ..., -1.2310, -1.2310, -1.2310],\n",
       "          [ 0.0000, -0.1932, -0.1923,  ...,  2.5338,  2.5636,  2.5723],\n",
       "          [ 0.0000, -0.0795, -0.0793,  ..., -1.2261, -1.2261, -1.2261]],\n",
       "\n",
       "         [[ 0.9985,  0.9964,  0.9963,  ...,  0.0000,  0.0000,  0.0000],\n",
       "          [ 0.9986,  0.9967,  0.9966,  ...,  0.0000,  0.0000,  0.0000],\n",
       "          [ 0.9987,  0.9970,  0.9967,  ...,  0.0000,  0.0000,  0.0000],\n",
       "          ...,\n",
       "          [ 0.9998,  0.9991,  0.9993,  ...,  0.0000,  0.0000,  0.0000],\n",
       "          [ 0.9998,  0.9991,  0.9993,  ...,  0.0000,  0.0000,  0.0000],\n",
       "          [ 0.9998,  0.9991,  0.9994,  ...,  0.0000,  0.0000,  0.0000]]]])"
      ]
     },
     "execution_count": 109,
     "metadata": {},
     "output_type": "execute_result"
    }
   ],
   "source": [
    "sample = batch[0].unsqueeze(0)\n",
    "print(sample.shape)\n",
    "sample"
   ]
  },
  {
   "cell_type": "code",
   "execution_count": 110,
   "metadata": {
    "execution": {
     "iopub.execute_input": "2024-12-07T04:40:52.215551Z",
     "iopub.status.busy": "2024-12-07T04:40:52.215180Z",
     "iopub.status.idle": "2024-12-07T04:40:52.222899Z",
     "shell.execute_reply": "2024-12-07T04:40:52.222034Z",
     "shell.execute_reply.started": "2024-12-07T04:40:52.215514Z"
    },
    "trusted": true
   },
   "outputs": [
    {
     "name": "stdout",
     "output_type": "stream",
     "text": [
      "[(0, 1), (0, 4), (1, 0), (1, 2), (2, 1), (2, 3), (3, 2), (3, 7), (4, 0), (4, 5), (5, 6), (5, 4), (6, 8), (6, 5), (7, 3), (8, 6), (9, 10), (10, 9), (11, 12), (11, 13), (12, 11), (12, 14), (13, 11), (13, 15), (14, 12), (14, 16), (15, 13), (15, 17), (15, 21), (16, 14), (16, 18), (16, 22), (17, 15), (17, 19), (18, 16), (18, 20), (19, 15), (19, 17), (20, 16), (20, 18), (21, 15), (21, 19), (22, 16), (23, 24), (23, 11), (24, 12), (24, 23), (25, 26), (26, 25), (26, 27), (27, 26), (27, 28), (28, 27), (28, 29), (29, 28), (30, 25), (30, 31), (30, 34), (31, 30), (31, 32), (32, 31), (32, 33), (33, 32), (34, 30), (34, 38), (35, 34), (35, 36), (36, 35), (36, 37), (37, 36), (38, 34), (38, 42), (38, 39), (39, 38), (39, 40), (40, 39), (40, 41), (41, 40), (42, 38), (42, 43), (43, 42), (43, 44), (44, 43), (44, 45), (45, 44), (46, 47), (47, 46), (47, 48), (48, 47), (48, 49), (49, 48), (49, 50), (50, 49), (51, 46), (51, 52), (51, 55), (52, 51), (52, 53), (53, 52), (53, 54), (54, 53), (55, 51), (55, 59), (56, 55), (56, 57), (57, 56), (57, 58), (58, 57), (59, 55), (59, 63), (59, 60), (60, 59), (60, 61), (61, 60), (61, 62), (62, 61), (63, 59), (63, 64), (64, 63), (64, 65), (65, 64), (65, 66), (66, 65)]\n"
     ]
    }
   ],
   "source": [
    "# Tạo danh sách chi tiết hơn theo dạng (index, value)\n",
    "detailed_body_connections = [(i, val) for i, conn in enumerate(body_connections) for val in (conn if isinstance(conn, tuple) else (conn,))]\n",
    "\n",
    "print(detailed_body_connections)"
   ]
  },
  {
   "cell_type": "code",
   "execution_count": 111,
   "metadata": {
    "execution": {
     "iopub.execute_input": "2024-12-07T04:40:52.224181Z",
     "iopub.status.busy": "2024-12-07T04:40:52.223904Z",
     "iopub.status.idle": "2024-12-07T04:40:52.235386Z",
     "shell.execute_reply": "2024-12-07T04:40:52.234503Z",
     "shell.execute_reply.started": "2024-12-07T04:40:52.224157Z"
    },
    "trusted": true
   },
   "outputs": [],
   "source": [
    "detailed_body_connections = [(0, 1), (0, 4), (1, 0), (1, 2), (2, 1), (2, 3), (3, 2), (3, 7), (4, 0), (4, 5), (5, 6), (5, 4), (6, 8), (6, 5), (7, 3), (8, 6), (9, 10), (10, 9), (11, 12), (11, 13), (12, 11), (12, 14), (13, 11), (13, 15), (14, 12), (14, 16), (15, 13), (15, 17), (15, 21), (16, 14), (16, 18), (16, 22), (17, 15), (17, 19), (18, 16), (18, 20), (19, 15), (19, 17), (20, 16), (20, 18), (21, 15), (21, 19), (22, 16), (23, 24), (23, 11), (24, 12), (24, 23), (25, 26), (26, 25), (26, 27), (27, 26), (27, 28), (28, 27), (28, 29), (29, 28), (30, 25), (30, 31), (30, 34), (31, 30), (31, 32), (32, 31), (32, 33), (33, 32), (34, 30), (34, 38), (35, 34), (35, 36), (36, 35), (36, 37), (37, 36), (38, 34), (38, 42), (38, 39), (39, 38), (39, 40), (40, 39), (40, 41), (41, 40), (42, 38), (42, 43), (43, 42), (43, 44), (44, 43), (44, 45), (45, 44), (46, 47), (47, 46), (47, 48), (48, 47), (48, 49), (49, 48), (49, 50), (50, 49), (51, 46), (51, 52), (51, 55), (52, 51), (52, 53), (53, 52), (53, 54), (54, 53), (55, 51), (55, 59), (56, 55), (56, 57), (57, 56), (57, 58), (58, 57), (59, 55), (59, 63), (59, 60), (60, 59), (60, 61), (61, 60), (61, 62), (62, 61), (63, 59), (63, 64), (64, 63), (64, 65), (65, 64), (65, 66), (66, 65)]"
   ]
  },
  {
   "cell_type": "code",
   "execution_count": 112,
   "metadata": {
    "execution": {
     "iopub.execute_input": "2024-12-07T04:40:52.236588Z",
     "iopub.status.busy": "2024-12-07T04:40:52.236318Z",
     "iopub.status.idle": "2024-12-07T04:40:52.250954Z",
     "shell.execute_reply": "2024-12-07T04:40:52.250264Z",
     "shell.execute_reply.started": "2024-12-07T04:40:52.236565Z"
    },
    "trusted": true
   },
   "outputs": [],
   "source": [
    "device = torch.device(\"cuda\" if torch.cuda.is_available() else \"cpu\")"
   ]
  },
  {
   "cell_type": "code",
   "execution_count": 113,
   "metadata": {
    "execution": {
     "iopub.execute_input": "2024-12-07T04:40:52.251984Z",
     "iopub.status.busy": "2024-12-07T04:40:52.251784Z",
     "iopub.status.idle": "2024-12-07T04:40:52.263834Z",
     "shell.execute_reply": "2024-12-07T04:40:52.263178Z",
     "shell.execute_reply.started": "2024-12-07T04:40:52.251964Z"
    },
    "trusted": true
   },
   "outputs": [
    {
     "data": {
      "text/plain": [
       "device(type='cuda')"
      ]
     },
     "execution_count": 113,
     "metadata": {},
     "output_type": "execute_result"
    }
   ],
   "source": [
    "device"
   ]
  },
  {
   "cell_type": "code",
   "execution_count": null,
   "metadata": {
    "trusted": true
   },
   "outputs": [],
   "source": []
  },
  {
   "cell_type": "code",
   "execution_count": 129,
   "metadata": {
    "execution": {
     "iopub.execute_input": "2024-12-07T05:09:21.801891Z",
     "iopub.status.busy": "2024-12-07T05:09:21.801073Z",
     "iopub.status.idle": "2024-12-07T05:09:21.847779Z",
     "shell.execute_reply": "2024-12-07T05:09:21.847007Z",
     "shell.execute_reply.started": "2024-12-07T05:09:21.801857Z"
    },
    "trusted": true
   },
   "outputs": [],
   "source": [
    "model = Model(in_channels=3, num_nodes=67, inward_edges=detailed_body_connections, n_classes=num_class, dropout_ratio = 0.1,batch_norm=True).to(device)"
   ]
  },
  {
   "cell_type": "code",
   "execution_count": 115,
   "metadata": {
    "execution": {
     "iopub.execute_input": "2024-12-07T04:40:52.317043Z",
     "iopub.status.busy": "2024-12-07T04:40:52.316829Z",
     "iopub.status.idle": "2024-12-07T04:40:52.320663Z",
     "shell.execute_reply": "2024-12-07T04:40:52.319890Z",
     "shell.execute_reply.started": "2024-12-07T04:40:52.317021Z"
    },
    "trusted": true
   },
   "outputs": [],
   "source": [
    "import torch\n",
    "import torch.nn as nn"
   ]
  },
  {
   "cell_type": "code",
   "execution_count": 116,
   "metadata": {
    "execution": {
     "iopub.execute_input": "2024-12-07T04:40:52.322403Z",
     "iopub.status.busy": "2024-12-07T04:40:52.321814Z",
     "iopub.status.idle": "2024-12-07T04:40:52.332148Z",
     "shell.execute_reply": "2024-12-07T04:40:52.331489Z",
     "shell.execute_reply.started": "2024-12-07T04:40:52.322376Z"
    },
    "trusted": true
   },
   "outputs": [
    {
     "data": {
      "text/plain": [
       "1287"
      ]
     },
     "execution_count": 116,
     "metadata": {},
     "output_type": "execute_result"
    }
   ],
   "source": [
    "len(tensor_indices)"
   ]
  },
  {
   "cell_type": "code",
   "execution_count": 117,
   "metadata": {
    "execution": {
     "iopub.execute_input": "2024-12-07T04:40:52.333258Z",
     "iopub.status.busy": "2024-12-07T04:40:52.333035Z",
     "iopub.status.idle": "2024-12-07T04:40:52.344012Z",
     "shell.execute_reply": "2024-12-07T04:40:52.343325Z",
     "shell.execute_reply.started": "2024-12-07T04:40:52.333235Z"
    },
    "trusted": true
   },
   "outputs": [
    {
     "data": {
      "text/plain": [
       "tensor([10, 10, 10,  ...,  7,  7,  7])"
      ]
     },
     "execution_count": 117,
     "metadata": {},
     "output_type": "execute_result"
    }
   ],
   "source": [
    "tensor_indices"
   ]
  },
  {
   "cell_type": "code",
   "execution_count": 118,
   "metadata": {
    "execution": {
     "iopub.execute_input": "2024-12-07T04:40:52.345169Z",
     "iopub.status.busy": "2024-12-07T04:40:52.344939Z",
     "iopub.status.idle": "2024-12-07T04:40:52.354516Z",
     "shell.execute_reply": "2024-12-07T04:40:52.353851Z",
     "shell.execute_reply.started": "2024-12-07T04:40:52.345147Z"
    },
    "trusted": true
   },
   "outputs": [
    {
     "data": {
      "text/plain": [
       "torch.Size([1287])"
      ]
     },
     "execution_count": 118,
     "metadata": {},
     "output_type": "execute_result"
    }
   ],
   "source": [
    "tensor_indices.shape"
   ]
  },
  {
   "cell_type": "code",
   "execution_count": 119,
   "metadata": {
    "execution": {
     "iopub.execute_input": "2024-12-07T04:40:52.355578Z",
     "iopub.status.busy": "2024-12-07T04:40:52.355302Z",
     "iopub.status.idle": "2024-12-07T04:40:52.394293Z",
     "shell.execute_reply": "2024-12-07T04:40:52.393673Z",
     "shell.execute_reply.started": "2024-12-07T04:40:52.355542Z"
    },
    "trusted": true
   },
   "outputs": [],
   "source": [
    "from torch.utils.data import random_split\n",
    "batch_size=50\n",
    "num_epochs = 50\n",
    "train_ratio = 0.8\n",
    "lr=0.01\n",
    "weight_decay=1e-2\n",
    "num = len(tensor_indices)\n",
    "stacked_tensor = torch.stack(values)\n",
    "train_size = int(train_ratio * num)\n",
    "val_size = num - train_size\n",
    "dataset = TensorDataset(stacked_tensor, tensor_indices)\n",
    "train_dataset, val_dataset = random_split(dataset, [train_size, val_size])\n",
    "train_loader = DataLoader(train_dataset, batch_size=batch_size, shuffle=True)"
   ]
  },
  {
   "cell_type": "code",
   "execution_count": null,
   "metadata": {
    "trusted": true
   },
   "outputs": [],
   "source": []
  },
  {
   "cell_type": "code",
   "execution_count": 120,
   "metadata": {
    "execution": {
     "iopub.execute_input": "2024-12-07T04:40:52.395373Z",
     "iopub.status.busy": "2024-12-07T04:40:52.395162Z",
     "iopub.status.idle": "2024-12-07T04:40:52.400784Z",
     "shell.execute_reply": "2024-12-07T04:40:52.399826Z",
     "shell.execute_reply.started": "2024-12-07T04:40:52.395351Z"
    },
    "trusted": true
   },
   "outputs": [
    {
     "name": "stdout",
     "output_type": "stream",
     "text": [
      "Train data shape: torch.Size([3, 30, 67])\n",
      "Train labels shape: torch.Size([])\n",
      "Train dataset size: 1029\n",
      "Validation dataset size: 258\n"
     ]
    }
   ],
   "source": [
    "# Lấy kích thước từ phần tử đầu tiên trong Subset\n",
    "train_data_shape = train_dataset[0][0].shape  # Dữ liệu\n",
    "train_labels_shape = train_dataset[0][1].shape  # Nhãn (1D nên không có .shape thực sự)\n",
    "\n",
    "print(f\"Train data shape: {train_data_shape}\")\n",
    "print(f\"Train labels shape: {train_labels_shape}\")\n",
    "print(f\"Train dataset size: {len(train_dataset)}\")\n",
    "print(f\"Validation dataset size: {len(val_dataset)}\")"
   ]
  },
  {
   "cell_type": "code",
   "execution_count": 121,
   "metadata": {
    "execution": {
     "iopub.execute_input": "2024-12-07T04:40:52.402137Z",
     "iopub.status.busy": "2024-12-07T04:40:52.401891Z",
     "iopub.status.idle": "2024-12-07T04:40:52.414350Z",
     "shell.execute_reply": "2024-12-07T04:40:52.413518Z",
     "shell.execute_reply.started": "2024-12-07T04:40:52.402114Z"
    },
    "trusted": true
   },
   "outputs": [
    {
     "name": "stdout",
     "output_type": "stream",
     "text": [
      "torch.Size([1287, 3, 30, 67])\n",
      "torch.Size([1287])\n"
     ]
    }
   ],
   "source": [
    "print(batch.shape)\n",
    "print(tensor_indices.shape)"
   ]
  },
  {
   "cell_type": "code",
   "execution_count": 139,
   "metadata": {
    "execution": {
     "iopub.execute_input": "2024-12-07T05:39:43.169354Z",
     "iopub.status.busy": "2024-12-07T05:39:43.169012Z",
     "iopub.status.idle": "2024-12-07T05:39:43.207243Z",
     "shell.execute_reply": "2024-12-07T05:39:43.206486Z",
     "shell.execute_reply.started": "2024-12-07T05:39:43.169324Z"
    },
    "trusted": true
   },
   "outputs": [
    {
     "name": "stdout",
     "output_type": "stream",
     "text": [
      "[INFO] Register count_normalization() for <class 'torch.nn.modules.batchnorm.BatchNorm1d'>.\n",
      "[INFO] Register count_convNd() for <class 'torch.nn.modules.conv.Conv2d'>.\n",
      "[INFO] Register count_normalization() for <class 'torch.nn.modules.batchnorm.BatchNorm2d'>.\n",
      "[INFO] Register zero_ops() for <class 'torch.nn.modules.activation.ReLU'>.\n",
      "[INFO] Register zero_ops() for <class 'torch.nn.modules.dropout.Dropout'>.\n",
      "[INFO] Register zero_ops() for <class 'torch.nn.modules.container.Sequential'>.\n",
      "[INFO] Register count_linear() for <class 'torch.nn.modules.linear.Linear'>.\n",
      "FLOPS: 4.521603952 GFlops\n",
      "Parameters: 3080075.0\n"
     ]
    }
   ],
   "source": [
    "from thop import profile\n",
    "flops, params = profile(model, inputs=(train_dataset[0][0].unsqueeze(0).to(device),))\n",
    "print(f\"FLOPS: {flops/1000000000} GFlops\")\n",
    "print(f\"Parameters: {params}\")"
   ]
  },
  {
   "cell_type": "code",
   "execution_count": 134,
   "metadata": {
    "execution": {
     "iopub.execute_input": "2024-12-07T05:37:11.046699Z",
     "iopub.status.busy": "2024-12-07T05:37:11.046334Z",
     "iopub.status.idle": "2024-12-07T05:37:20.627417Z",
     "shell.execute_reply": "2024-12-07T05:37:20.626532Z",
     "shell.execute_reply.started": "2024-12-07T05:37:11.046670Z"
    },
    "trusted": true
   },
   "outputs": [
    {
     "name": "stdout",
     "output_type": "stream",
     "text": [
      "Collecting thop\n",
      "  Downloading thop-0.1.1.post2209072238-py3-none-any.whl.metadata (2.7 kB)\n",
      "Requirement already satisfied: torch in /opt/conda/lib/python3.10/site-packages (from thop) (2.4.0)\n",
      "Requirement already satisfied: filelock in /opt/conda/lib/python3.10/site-packages (from torch->thop) (3.15.1)\n",
      "Requirement already satisfied: typing-extensions>=4.8.0 in /opt/conda/lib/python3.10/site-packages (from torch->thop) (4.12.2)\n",
      "Requirement already satisfied: sympy in /opt/conda/lib/python3.10/site-packages (from torch->thop) (1.13.3)\n",
      "Requirement already satisfied: networkx in /opt/conda/lib/python3.10/site-packages (from torch->thop) (3.3)\n",
      "Requirement already satisfied: jinja2 in /opt/conda/lib/python3.10/site-packages (from torch->thop) (3.1.4)\n",
      "Requirement already satisfied: fsspec in /opt/conda/lib/python3.10/site-packages (from torch->thop) (2024.6.1)\n",
      "Requirement already satisfied: MarkupSafe>=2.0 in /opt/conda/lib/python3.10/site-packages (from jinja2->torch->thop) (2.1.5)\n",
      "Requirement already satisfied: mpmath<1.4,>=1.1.0 in /opt/conda/lib/python3.10/site-packages (from sympy->torch->thop) (1.3.0)\n",
      "Downloading thop-0.1.1.post2209072238-py3-none-any.whl (15 kB)\n",
      "Installing collected packages: thop\n",
      "Successfully installed thop-0.1.1.post2209072238\n"
     ]
    }
   ],
   "source": [
    "!pip install thop"
   ]
  },
  {
   "cell_type": "code",
   "execution_count": 131,
   "metadata": {
    "execution": {
     "iopub.execute_input": "2024-12-07T05:10:00.461368Z",
     "iopub.status.busy": "2024-12-07T05:10:00.460775Z",
     "iopub.status.idle": "2024-12-07T05:10:59.693226Z",
     "shell.execute_reply": "2024-12-07T05:10:59.692366Z",
     "shell.execute_reply.started": "2024-12-07T05:10:00.461335Z"
    },
    "trusted": true
   },
   "outputs": [
    {
     "name": "stdout",
     "output_type": "stream",
     "text": [
      "Epoch [1/10] - Train Loss: 1.5276, Val Loss: 2.8151, Train Acc: 0.5734, Val Acc: 0.3605, Train F1: 0.5678, Val F1: 0.3330\n",
      "Epoch [2/10] - Train Loss: 1.2951, Val Loss: 1.4910, Train Acc: 0.6200, Val Acc: 0.5930, Train F1: 0.6163, Val F1: 0.5674\n",
      "Epoch [3/10] - Train Loss: 1.0940, Val Loss: 1.7966, Train Acc: 0.6764, Val Acc: 0.5814, Train F1: 0.6720, Val F1: 0.5628\n",
      "Epoch [4/10] - Train Loss: 0.9506, Val Loss: 2.1190, Train Acc: 0.7075, Val Acc: 0.5620, Train F1: 0.7067, Val F1: 0.5606\n",
      "Epoch [5/10] - Train Loss: 0.7901, Val Loss: 1.5583, Train Acc: 0.7687, Val Acc: 0.6318, Train F1: 0.7655, Val F1: 0.6078\n",
      "Epoch [6/10] - Train Loss: 0.6633, Val Loss: 1.9324, Train Acc: 0.7911, Val Acc: 0.6047, Train F1: 0.7894, Val F1: 0.6058\n",
      "Epoch [7/10] - Train Loss: 0.5887, Val Loss: 1.4041, Train Acc: 0.8183, Val Acc: 0.6202, Train F1: 0.8171, Val F1: 0.6134\n",
      "Epoch [8/10] - Train Loss: 0.6284, Val Loss: 1.9252, Train Acc: 0.8017, Val Acc: 0.5465, Train F1: 0.8008, Val F1: 0.5394\n",
      "Epoch [9/10] - Train Loss: 0.5029, Val Loss: 1.2089, Train Acc: 0.8280, Val Acc: 0.6977, Train F1: 0.8274, Val F1: 0.6901\n",
      "Epoch [10/10] - Train Loss: 0.4320, Val Loss: 1.5831, Train Acc: 0.8717, Val Acc: 0.6240, Train F1: 0.8722, Val F1: 0.6121\n",
      "Hoàn thành huấn luyện!\n"
     ]
    },
    {
     "data": {
      "image/png": "[encoded data removed]",
      "text/plain": [
       "<Figure size 1200x800 with 1 Axes>"
      ]
     },
     "metadata": {},
     "output_type": "display_data"
    }
   ],
   "source": [
    "from sklearn.metrics import accuracy_score, precision_score, recall_score, f1_score, confusion_matrix\n",
    "optimizer = optim.SGD(model.parameters(), lr=0.01, weight_decay=1e-2)\n",
    "num_epochs = 10\n",
    "criterion = nn.CrossEntropyLoss()\n",
    "i = 0\n",
    "history = {\"loss\": [], \"accuracy\": [], \"precision\": [], \"recall\": [], \"f1\": []}\n",
    "model.train()\n",
    "# Lưu trữ các giá trị metric theo từng epoch\n",
    "history = {\n",
    "    \"train_loss\": [], \"val_loss\": [],\n",
    "    \"train_accuracy\": [], \"val_accuracy\": [],\n",
    "    \"train_precision\": [], \"val_precision\": [],\n",
    "    \"train_recall\": [], \"val_recall\": [],\n",
    "    \"train_f1\": [], \"val_f1\": []\n",
    "}\n",
    "\n",
    "for epoch in range(num_epochs):\n",
    "    # Huấn luyện\n",
    "    model.train()\n",
    "    running_loss = 0.0\n",
    "    all_labels = []\n",
    "    all_preds = []\n",
    "\n",
    "    for inputs, labels in train_loader:\n",
    "        inputs, labels = inputs.to(device), labels.to(device)\n",
    "\n",
    "        # Forward pass\n",
    "        outputs = model(inputs)\n",
    "        loss = criterion(outputs, labels)\n",
    "\n",
    "        # Backward pass và cập nhật trọng số\n",
    "        optimizer.zero_grad()\n",
    "        loss.backward()\n",
    "        optimizer.step()\n",
    "\n",
    "        # Cộng dồn loss\n",
    "        running_loss += loss.item()\n",
    "\n",
    "        # Lưu trữ nhãn thực và dự đoán\n",
    "        _, preds = torch.max(outputs, 1)\n",
    "        all_labels.extend(labels.cpu().numpy())\n",
    "        all_preds.extend(preds.cpu().numpy())\n",
    "\n",
    "    # Tính loss và các metric trên tập huấn luyện\n",
    "    train_loss = running_loss / len(train_loader)\n",
    "    train_accuracy = accuracy_score(all_labels, all_preds)\n",
    "    train_precision = precision_score(all_labels, all_preds, average='weighted', zero_division=0)\n",
    "    train_recall = recall_score(all_labels, all_preds, average='weighted', zero_division=0)\n",
    "    train_f1 = f1_score(all_labels, all_preds, average='weighted', zero_division=0)\n",
    "\n",
    "    # Lưu thông tin vào history\n",
    "    history[\"train_loss\"].append(train_loss)\n",
    "    history[\"train_accuracy\"].append(train_accuracy)\n",
    "    history[\"train_precision\"].append(train_precision)\n",
    "    history[\"train_recall\"].append(train_recall)\n",
    "    history[\"train_f1\"].append(train_f1)\n",
    "\n",
    "    # Đánh giá trên tập validation\n",
    "    model.eval()\n",
    "    val_running_loss = 0.0\n",
    "    val_labels = []\n",
    "    val_preds = []\n",
    "\n",
    "    with torch.no_grad():\n",
    "        for val_data in val_dataset:  # Duyệt qua từng mẫu trong tập validation\n",
    "            val_inputs, val_labels_batch = val_data\n",
    "            val_inputs, val_labels_batch = val_inputs.to(device), val_labels_batch.to(device)\n",
    "\n",
    "            # Forward pass\n",
    "            val_outputs = model(val_inputs.unsqueeze(0))  # Thêm batch dimension cho 1 mẫu\n",
    "            val_loss = criterion(val_outputs, val_labels_batch.unsqueeze(0))\n",
    "            val_running_loss += val_loss.item()\n",
    "\n",
    "            # Lưu nhãn thực và dự đoán\n",
    "            _, val_preds_batch = torch.max(val_outputs, 1)\n",
    "            val_labels.append(val_labels_batch.cpu().item())\n",
    "            val_preds.append(val_preds_batch.cpu().item())\n",
    "\n",
    "    # Tính loss và các metric trên tập validation\n",
    "    val_loss = val_running_loss / len(val_dataset)\n",
    "    val_accuracy = accuracy_score(val_labels, val_preds)\n",
    "    val_precision = precision_score(val_labels, val_preds, average='weighted', zero_division=0)\n",
    "    val_recall = recall_score(val_labels, val_preds, average='weighted', zero_division=0)\n",
    "    val_f1 = f1_score(val_labels, val_preds, average='weighted', zero_division=0)\n",
    "\n",
    "    # Lưu thông tin vào history\n",
    "    history[\"val_loss\"].append(val_loss)\n",
    "    history[\"val_accuracy\"].append(val_accuracy)\n",
    "    history[\"val_precision\"].append(val_precision)\n",
    "    history[\"val_recall\"].append(val_recall)\n",
    "    history[\"val_f1\"].append(val_f1)\n",
    "\n",
    "    # In thông tin sau mỗi epoch\n",
    "    print(f\"Epoch [{epoch+1}/{num_epochs}] - \"\n",
    "          f\"Train Loss: {train_loss:.4f}, Val Loss: {val_loss:.4f}, \"\n",
    "          f\"Train Acc: {train_accuracy:.4f}, Val Acc: {val_accuracy:.4f}, \"\n",
    "          f\"Train F1: {train_f1:.4f}, Val F1: {val_f1:.4f}\")\n",
    "\n",
    "print(\"Hoàn thành huấn luyện!\")\n",
    "\n",
    "# Vẽ đồ thị các metric\n",
    "plt.figure(figsize=(12, 8))\n",
    "plt.plot(range(num_epochs), history[\"train_loss\"], label=\"Train Loss\", marker='o')\n",
    "plt.plot(range(num_epochs), history[\"val_loss\"], label=\"Validation Loss\", marker='x')\n",
    "plt.plot(range(num_epochs), history[\"train_accuracy\"], label=\"Train Accuracy\", marker='o')\n",
    "plt.plot(range(num_epochs), history[\"val_accuracy\"], label=\"Validation Accuracy\", marker='x')\n",
    "plt.plot(range(num_epochs), history[\"train_f1\"], label=\"Train F1\", marker='o')\n",
    "plt.plot(range(num_epochs), history[\"val_f1\"], label=\"Validation F1\", marker='x')\n",
    "\n",
    "plt.title(\"Training and Validation Metrics over Epochs\")\n",
    "plt.xlabel(\"Epochs\")\n",
    "plt.ylabel(\"Metrics\")\n",
    "plt.legend()\n",
    "plt.grid(True)\n",
    "plt.show()"
   ]
  },
  {
   "cell_type": "code",
   "execution_count": null,
   "metadata": {
    "execution": {
     "iopub.status.busy": "2024-12-07T04:50:40.050812Z",
     "iopub.status.idle": "2024-12-07T04:50:40.051280Z",
     "shell.execute_reply": "2024-12-07T04:50:40.051071Z",
     "shell.execute_reply.started": "2024-12-07T04:50:40.051047Z"
    },
    "trusted": true
   },
   "outputs": [],
   "source": [
    "\n",
    "import matplotlib.pyplot as plt# Vẽ các chỉ số của tập Training\n",
    "plt.figure(figsize=(12, 6))\n",
    "plt.plot(range(num_epochs), history[\"train_accuracy\"], label=\"Train Accuracy\", marker='o')\n",
    "plt.plot(range(num_epochs), history[\"train_f1\"], label=\"Train F1-score\", marker='x')\n",
    "plt.plot(range(num_epochs), history[\"train_precision\"], label=\"Train Precision\", marker='^')\n",
    "plt.plot(range(num_epochs), history[\"train_recall\"], label=\"Train Recall\", marker='s')\n",
    "\n",
    "plt.title(\"Training Metrics over Epochs\")\n",
    "plt.xlabel(\"Epochs\")\n",
    "plt.ylabel(\"Metrics\")\n",
    "plt.legend()\n",
    "plt.grid(True)\n",
    "plt.show()\n",
    "\n",
    "# Vẽ các chỉ số của tập Validation\n",
    "plt.figure(figsize=(12, 6))\n",
    "plt.plot(range(num_epochs), history[\"val_accuracy\"], label=\"Validation Accuracy\", marker='o')\n",
    "plt.plot(range(num_epochs), history[\"val_f1\"], label=\"Validation F1-score\", marker='x')\n",
    "plt.plot(range(num_epochs), history[\"val_precision\"], label=\"Validation Precision\", marker='^')\n",
    "plt.plot(range(num_epochs), history[\"val_recall\"], label=\"Validation Recall\", marker='s')\n",
    "\n",
    "plt.title(\"Validation Metrics over Epochs\")\n",
    "plt.xlabel(\"Epochs\")\n",
    "plt.ylabel(\"Metrics\")\n",
    "plt.legend()\n",
    "plt.grid(True)\n",
    "plt.show()\n"
   ]
  },
  {
   "cell_type": "code",
   "execution_count": null,
   "metadata": {
    "execution": {
     "iopub.status.busy": "2024-12-07T04:50:40.053219Z",
     "iopub.status.idle": "2024-12-07T04:50:40.053739Z",
     "shell.execute_reply": "2024-12-07T04:50:40.053505Z",
     "shell.execute_reply.started": "2024-12-07T04:50:40.053478Z"
    },
    "trusted": true
   },
   "outputs": [],
   "source": [
    "# Assuming `model` is your neural network\n",
    "torch.save(model.state_dict(), 'model5.pth')"
   ]
  },
  {
   "cell_type": "code",
   "execution_count": null,
   "metadata": {
    "execution": {
     "iopub.status.busy": "2024-12-07T04:50:40.054911Z",
     "iopub.status.idle": "2024-12-07T04:50:40.055333Z",
     "shell.execute_reply": "2024-12-07T04:50:40.055133Z",
     "shell.execute_reply.started": "2024-12-07T04:50:40.055111Z"
    },
    "trusted": true
   },
   "outputs": [],
   "source": [
    "import torch\n",
    "from sklearn.metrics import accuracy_score, precision_score, recall_score, f1_score, confusion_matrix\n",
    "\n",
    "# Giả sử bạn đã có mô hình đã huấn luyện và test_loader là DataLoader cho tập test\n",
    "# Chúng ta sẽ tạo danh sách để lưu trữ các nhãn dự đoán và nhãn thực tế\n",
    "all_preds = []\n",
    "all_labels = []\n",
    "print(len(train_dataset))\n",
    "\n",
    "# Đánh giá mô hình trên tập test\n",
    "with torch.no_grad():\n",
    "    model.eval()  # Đặt mô hình ở chế độ đánh giá\n",
    "    for data, labels in train_dataset:\n",
    "        data = data.unsqueeze(0)\n",
    "        data = data.to(device)\n",
    "        outputs = model(data)  # Dự đoán từ mô hình\n",
    "        predicted_classes = torch.argmax(outputs, dim=1)  # Lấy nhãn có xác suất cao nhất\n",
    "        all_preds.extend(predicted_classes.cpu().numpy())  # Thêm nhãn dự đoán vào danh sách\n",
    "        all_labels.extend(labels.unsqueeze(0).numpy())  # Thêm nhãn thực tế vào danh sách\n",
    "# Tính toán các chỉ số đánh giá\n",
    "accuracy = accuracy_score(all_labels, all_preds)\n",
    "precision = precision_score(all_labels, all_preds, average='weighted')  # Tính precision cho đa lớp\n",
    "recall = recall_score(all_labels, all_preds, average='weighted')  # Tính recall cho đa lớp\n",
    "f1 = f1_score(all_labels, all_preds, average='weighted')  # Tính F1-score cho đa lớp\n",
    "confusion = confusion_matrix(all_labels, all_preds)  # Tính confusion matrix\n",
    "\n",
    "# In ra các kết quả đánh giá\n",
    "print(f'Accuracy: {accuracy * 100:.2f}%')\n",
    "print(f'Precision: {precision:.2f}')\n",
    "print(f'Recall: {recall:.2f}')\n",
    "print(f'F1 Score: {f1:.2f}')\n",
    "print('Confusion Matrix:')\n",
    "print(confusion)\n"
   ]
  },
  {
   "cell_type": "code",
   "execution_count": 132,
   "metadata": {
    "execution": {
     "iopub.execute_input": "2024-12-07T05:11:12.341356Z",
     "iopub.status.busy": "2024-12-07T05:11:12.341016Z",
     "iopub.status.idle": "2024-12-07T05:11:24.337348Z",
     "shell.execute_reply": "2024-12-07T05:11:24.336372Z",
     "shell.execute_reply.started": "2024-12-07T05:11:12.341326Z"
    },
    "trusted": true
   },
   "outputs": [
    {
     "name": "stdout",
     "output_type": "stream",
     "text": [
      "Accuracy: 85.13%\n",
      "Precision: 0.90\n",
      "Recall: 0.85\n",
      "F1 Score: 0.85\n"
     ]
    },
    {
     "data": {
      "image/png": "[encoded data removed]",
      "text/plain": [
       "<Figure size 4000x3000 with 2 Axes>"
      ]
     },
     "metadata": {},
     "output_type": "display_data"
    }
   ],
   "source": [
    "import torch\n",
    "from sklearn.metrics import accuracy_score, precision_score, recall_score, f1_score, confusion_matrix\n",
    "import seaborn as sns\n",
    "import matplotlib.pyplot as plt\n",
    "# Giả sử bạn đã có mô hình đã huấn luyện và test_loader là DataLoader cho tập test\n",
    "# Chúng ta sẽ tạo danh sách để lưu trữ các nhãn dự đoán và nhãn thực tế\n",
    "all_preds = []\n",
    "all_labels = []\n",
    "\n",
    "# Đánh giá mô hình trên tập test\n",
    "with torch.no_grad():\n",
    "    model.eval()  # Đặt mô hình ở chế độ đánh giá\n",
    "    for data, labels in train_dataset:\n",
    "        data = data.unsqueeze(0)\n",
    "        data = data.to(device)\n",
    "        outputs = model(data)  # Dự đoán từ mô hình\n",
    "        predicted_classes = torch.argmax(outputs, dim=1)  # Lấy nhãn có xác suất cao nhất\n",
    "        all_preds.extend(predicted_classes.cpu().numpy())  # Thêm nhãn dự đoán vào danh sách\n",
    "        all_labels.extend(labels.unsqueeze(0).numpy())  # Thêm nhãn thực tế vào danh sách\n",
    "# Tính toán các chỉ số đánh giá\n",
    "accuracy = accuracy_score(all_labels, all_preds)\n",
    "precision = precision_score(all_labels, all_preds, average='weighted')  # Tính precision cho đa lớp\n",
    "recall = recall_score(all_labels, all_preds, average='weighted')  # Tính recall cho đa lớp\n",
    "f1 = f1_score(all_labels, all_preds, average='weighted')  # Tính F1-score cho đa lớp\n",
    "confusion = confusion_matrix(all_labels, all_preds)  # Tính confusion matrix\n",
    "cm_percentage = confusion.astype('float') / confusion.sum(axis=1)[:, np.newaxis] * 100\n",
    "\n",
    "# In ra các kết quả đánh giá\n",
    "print(f'Accuracy: {accuracy * 100:.2f}%')\n",
    "print(f'Precision: {precision:.2f}')\n",
    "print(f'Recall: {recall:.2f}')\n",
    "print(f'F1 Score: {f1:.2f}')\n",
    "# Tạo heatmap từ confusion matrix\n",
    "plt.figure(figsize=(40, 30))\n",
    "sns.heatmap(cm_percentage, annot=True, fmt=\".2f\", cmap=\"Blues\", xticklabels=np.unique(all_labels), yticklabels=np.unique(all_labels), cbar=True)# Thêm các thông tin vào biểu đồ\n",
    "plt.xlabel('Predicted Labels')\n",
    "plt.ylabel('True Labels')\n",
    "plt.title('Confusion Matrix Heatmap')\n",
    "\n",
    "# Hiển thị heatmap\n",
    "plt.show()"
   ]
  }
 ],
 "metadata": {
  "kaggle": {
   "accelerator": "gpu",
   "dataSources": [
    {
     "datasetId": 6059089,
     "sourceId": 9870525,
     "sourceType": "datasetVersion"
    },
    {
     "datasetId": 6190220,
     "sourceId": 10047614,
     "sourceType": "datasetVersion"
    },
    {
     "isSourceIdPinned": true,
     "modelId": 185268,
     "modelInstanceId": 162904,
     "sourceId": 191119,
     "sourceType": "modelInstanceVersion"
    }
   ],
   "dockerImageVersionId": 30787,
   "isGpuEnabled": true,
   "isInternetEnabled": true,
   "language": "python",
   "sourceType": "notebook"
  },
  "kernelspec": {
   "display_name": "Python 3",
   "language": "python",
   "name": "python3"
  },
  "language_info": {
   "codemirror_mode": {
    "name": "ipython",
    "version": 3
   },
   "file_extension": ".py",
   "mimetype": "text/x-python",
   "name": "python",
   "nbconvert_exporter": "python",
   "pygments_lexer": "ipython3",
   "version": "3.10.14"
  }
 },
 "nbformat": 4,
 "nbformat_minor": 4
}
